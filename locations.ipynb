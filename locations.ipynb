{
 "cells": [
  {
   "attachments": {},
   "cell_type": "markdown",
   "metadata": {},
   "source": [
    "# Doctors' locations\n",
    "\n",
    "- Each location will be assigned to the number of doctors in this location, thus it will be represented with a histogram."
   ]
  },
  {
   "cell_type": "code",
   "execution_count": 2,
   "metadata": {},
   "outputs": [],
   "source": [
    "import json\n",
    "import collections\n",
    "import matplotlib.pyplot as plt\n",
    "\n",
    "# Define the path to your JSON file\n",
    "companies_file_path = 'dataset/companies.json'\n",
    "\n",
    "# Open the file and load the contents as a Python object\n",
    "with open(companies_file_path) as f:\n",
    "    companies = json.load(f)\n",
    "\n",
    "\n"
   ]
  },
  {
   "cell_type": "code",
   "execution_count": 3,
   "metadata": {},
   "outputs": [],
   "source": [
    "# Get provinces & cities of companies\n",
    "\n",
    "company_provinces = []\n",
    "\n",
    "for company in companies:\n",
    "    for country in company['countries']:\n",
    "        if country['name'] == 'EGYPT':\n",
    "            for province in country['provinces']:\n",
    "                if province['name'] not in company_provinces:\n",
    "                    company_provinces.append(province['name'])\n"
   ]
  },
  {
   "cell_type": "code",
   "execution_count": 4,
   "metadata": {},
   "outputs": [],
   "source": [
    "cairo_cities = []\n",
    "alexandria_cities = []\n",
    "giza_cities = []\n",
    "dakahlia_cities = []\n",
    "sharkia_cities = []\n",
    "\n",
    "for company in companies:\n",
    "    for country in company['countries']:\n",
    "        if country['name'] == 'EGYPT':\n",
    "            for province in country['provinces']:\n",
    "                if province['name'] == \"CAIRO\":\n",
    "                    for city in province['cities']:\n",
    "                        if city['name'] not in cairo_cities:\n",
    "                            cairo_cities.append(city['name'])\n",
    "\n",
    "                if province['name'] == \"ALEXANDRIA\":\n",
    "                    for city in province['cities']:\n",
    "                        if city['name'] not in alexandria_cities:\n",
    "                            alexandria_cities.append(city['name'])\n",
    "\n",
    "                if province['name'] == \"GIZA\":\n",
    "                    for city in province['cities']:\n",
    "                        if city['name'] not in giza_cities:\n",
    "                            giza_cities.append(city['name'])\n",
    "\n",
    "                if province['name'] == \"DAKAHLIA\":\n",
    "                    for city in province['cities']:\n",
    "                        if city['name'] not in dakahlia_cities:\n",
    "                            dakahlia_cities.append(city['name'])\n",
    "\n",
    "                if province['name'] == \"SHARKIA\":\n",
    "                    for city in province['cities']:\n",
    "                        if city['name'] not in sharkia_cities:\n",
    "                            sharkia_cities.append(city['name'])\n"
   ]
  },
  {
   "cell_type": "code",
   "execution_count": 5,
   "metadata": {},
   "outputs": [
    {
     "name": "stdout",
     "output_type": "stream",
     "text": [
      "97\n",
      "155\n",
      "58\n",
      "42\n",
      "31\n"
     ]
    }
   ],
   "source": [
    "print(len(cairo_cities))\n",
    "print(len(alexandria_cities))\n",
    "print(len(giza_cities))\n",
    "print(len(dakahlia_cities))\n",
    "print(len(sharkia_cities))"
   ]
  },
  {
   "cell_type": "code",
   "execution_count": null,
   "metadata": {},
   "outputs": [],
   "source": []
  }
 ],
 "metadata": {
  "interpreter": {
   "hash": "dc14f7734d659c7a792a107c713d39d3b0ed48a15e8cd1909946cea7b1916837"
  },
  "kernelspec": {
   "display_name": "Python 3",
   "language": "python",
   "name": "python3"
  },
  "language_info": {
   "codemirror_mode": {
    "name": "ipython",
    "version": 3
   },
   "file_extension": ".py",
   "mimetype": "text/x-python",
   "name": "python",
   "nbconvert_exporter": "python",
   "pygments_lexer": "ipython3",
   "version": "3.9.7"
  }
 },
 "nbformat": 4,
 "nbformat_minor": 2
}
