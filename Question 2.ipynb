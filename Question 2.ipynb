{
 "cells": [
  {
   "attachments": {},
   "cell_type": "markdown",
   "metadata": {},
   "source": [
    "# 1. Stating and refining the question."
   ]
  },
  {
   "attachments": {},
   "cell_type": "markdown",
   "metadata": {},
   "source": [
    "A suitable question is \"Are Doctors assigned to rep close to each other? (Descriptive)\"\n",
    "\n",
    "Epicycle:\n",
    "- Expectations: The question is answerable and useful\n",
    "- Collection: Looking at the dataset and collecting information about the company objectives.\n",
    "    - conclusion: Doctors assigned to rep are better to be close to increase the performance of the rep, using the geolocations of each doctor we can know how close are the assigned doctors, However a lot of companies still do not use the new geolocation feature hence we won't be able to calculate the exact distance between assigned doctors for some companies.\n",
    "- Match: Mismatch between the data and the question, the question is not answerable with the given data.\n",
    "\n",
    "We can edit the question to be \"Are Doctors assigned to rep in the same area? (Descriptive)\"\n",
    "\n",
    "Epicycle:\n",
    "- Expectations: The question is answerable and useful\n",
    "- Collection: Looking at the dataset and collecting information about the company objectives.\n",
    "    - conclusion: Doctors assigned to rep are better to be close to increase the performance of the rep, this time we can use the location of each doctor instead of the geolocation to know how many different areas are the assigned doctors in.\n",
    "- Match: Match between the data and the question, the question is answerable and useful."
   ]
  },
  {
   "attachments": {},
   "cell_type": "markdown",
   "metadata": {},
   "source": [
    "# 2. Exploratory data analysis.\n",
    "\n",
    "Epicycle:\n",
    "- Expectations: we should have a dataset of representatives’ visits with the location of the visit, we should not display any sensitive information of the users, we should not have missing values as the app forces the user to enter the complete information, however there could be some outliers due to users' mistakes.\n",
    "- Collection: Exploring and vislualizing the dataset, looking for missing values and outliers, and also looking for any sensitive information that should not be displayed.\n",
    "    - conclusion: indeed we have a dataset of representatives’ visits with the location of the visit, we carefully drop any sensitive information before beginning the analysis, we have no missing values, however we have some outliers that we should take care of.\n",
    "- Match: indeed expectations and data collection match.\n"
   ]
  },
  {
   "attachments": {},
   "cell_type": "markdown",
   "metadata": {},
   "source": [
    "##### Imports"
   ]
  },
  {
   "cell_type": "code",
   "execution_count": 7,
   "metadata": {},
   "outputs": [],
   "source": [
    "import os\n",
    "from pymongo import MongoClient\n",
    "from dotenv import load_dotenv\n",
    "import pandas as pd\n",
    "import seaborn as sns\n",
    "import matplotlib.pyplot as plt\n",
    "import numpy as np\n",
    "from sklearn.preprocessing import StandardScaler\n",
    "from scipy import stats"
   ]
  },
  {
   "attachments": {},
   "cell_type": "markdown",
   "metadata": {},
   "source": [
    "##### First let's connect to mongoDB."
   ]
  },
  {
   "cell_type": "code",
   "execution_count": 8,
   "metadata": {},
   "outputs": [],
   "source": [
    "# Load environment variables from .env file\n",
    "load_dotenv()\n",
    "\n",
    "# Retrieve the connection string from the environment variables\n",
    "connection_string = os.getenv(\"CONNECTION_STRING\")\n",
    "\n",
    "# Connect to the MongoDB server\n",
    "client = MongoClient(connection_string)\n",
    "\n",
    "# Connect to the database\n",
    "db = client['tacitapp']\n",
    "\n",
    "# Connect to the collection\n",
    "visits = db['visits']"
   ]
  },
  {
   "attachments": {},
   "cell_type": "markdown",
   "metadata": {},
   "source": [
    "##### Get the data we need.\n"
   ]
  },
  {
   "cell_type": "code",
   "execution_count": 9,
   "metadata": {},
   "outputs": [],
   "source": [
    "# Define the pipeline\n",
    "pipeline = [\n",
    "    {\n",
    "        '$project': {\n",
    "            '_id': 0, \n",
    "            'representative_id': '$user.id', \n",
    "            'representative_name': '$user.name', \n",
    "            'country': '$location.country', \n",
    "            'province': '$location.province', \n",
    "            'city': '$location.city', \n",
    "            'date': '$createdAt'\n",
    "        }\n",
    "    }\n",
    "]"
   ]
  },
  {
   "cell_type": "code",
   "execution_count": 10,
   "metadata": {},
   "outputs": [],
   "source": [
    "# Execute the pipeline\n",
    "result = visits.aggregate(pipeline)\n",
    "\n",
    "# Store the result in a dataframe\n",
    "df = pd.DataFrame(result)"
   ]
  },
  {
   "attachments": {},
   "cell_type": "markdown",
   "metadata": {},
   "source": [
    "##### Privacy note:\n",
    "For data sensetive reasons, we will drop the representative name"
   ]
  },
  {
   "cell_type": "code",
   "execution_count": 11,
   "metadata": {},
   "outputs": [
    {
     "name": "stdout",
     "output_type": "stream",
     "text": [
      "Index(['representative_id', 'representative_name', 'country', 'province',\n",
      "       'city', 'date'],\n",
      "      dtype='object')\n",
      "Index(['representative_id', 'country', 'province', 'city', 'date'], dtype='object')\n"
     ]
    }
   ],
   "source": [
    "# View columns\n",
    "print(df.columns)\n",
    "# Drop columns\n",
    "df.drop(['representative_name'], axis=1, inplace=True)\n",
    "# View columns\n",
    "print(df.columns)\n"
   ]
  },
  {
   "attachments": {},
   "cell_type": "markdown",
   "metadata": {},
   "source": [
    "##### Handle missing values\n",
    "we can see that there are no missing values in the dataset.\n",
    "and that is mainly because the system does not allow the rep to submit the visit if he did not fill all the required fields."
   ]
  },
  {
   "cell_type": "code",
   "execution_count": 12,
   "metadata": {},
   "outputs": [
    {
     "data": {
      "text/html": [
       "<div>\n",
       "<style scoped>\n",
       "    .dataframe tbody tr th:only-of-type {\n",
       "        vertical-align: middle;\n",
       "    }\n",
       "\n",
       "    .dataframe tbody tr th {\n",
       "        vertical-align: top;\n",
       "    }\n",
       "\n",
       "    .dataframe thead th {\n",
       "        text-align: right;\n",
       "    }\n",
       "</style>\n",
       "<table border=\"1\" class=\"dataframe\">\n",
       "  <thead>\n",
       "    <tr style=\"text-align: right;\">\n",
       "      <th></th>\n",
       "      <th>Total</th>\n",
       "      <th>Percent</th>\n",
       "    </tr>\n",
       "  </thead>\n",
       "  <tbody>\n",
       "    <tr>\n",
       "      <th>representative_id</th>\n",
       "      <td>0</td>\n",
       "      <td>0.0</td>\n",
       "    </tr>\n",
       "    <tr>\n",
       "      <th>country</th>\n",
       "      <td>0</td>\n",
       "      <td>0.0</td>\n",
       "    </tr>\n",
       "    <tr>\n",
       "      <th>province</th>\n",
       "      <td>0</td>\n",
       "      <td>0.0</td>\n",
       "    </tr>\n",
       "    <tr>\n",
       "      <th>city</th>\n",
       "      <td>0</td>\n",
       "      <td>0.0</td>\n",
       "    </tr>\n",
       "    <tr>\n",
       "      <th>date</th>\n",
       "      <td>0</td>\n",
       "      <td>0.0</td>\n",
       "    </tr>\n",
       "  </tbody>\n",
       "</table>\n",
       "</div>"
      ],
      "text/plain": [
       "                   Total  Percent\n",
       "representative_id      0      0.0\n",
       "country                0      0.0\n",
       "province               0      0.0\n",
       "city                   0      0.0\n",
       "date                   0      0.0"
      ]
     },
     "execution_count": 12,
     "metadata": {},
     "output_type": "execute_result"
    }
   ],
   "source": [
    "#missing data\n",
    "total = df.isnull().sum().sort_values(ascending=False)\n",
    "percent = (df.isnull().sum()/df.isnull().count()).sort_values(ascending=False)\n",
    "missing_data = pd.concat([total, percent], axis=1, keys=['Total', 'Percent'])\n",
    "missing_data.head(20)"
   ]
  },
  {
   "attachments": {},
   "cell_type": "markdown",
   "metadata": {},
   "source": [
    "##### some statistics about the data"
   ]
  },
  {
   "cell_type": "code",
   "execution_count": 13,
   "metadata": {},
   "outputs": [
    {
     "data": {
      "text/html": [
       "<div>\n",
       "<style scoped>\n",
       "    .dataframe tbody tr th:only-of-type {\n",
       "        vertical-align: middle;\n",
       "    }\n",
       "\n",
       "    .dataframe tbody tr th {\n",
       "        vertical-align: top;\n",
       "    }\n",
       "\n",
       "    .dataframe thead th {\n",
       "        text-align: right;\n",
       "    }\n",
       "</style>\n",
       "<table border=\"1\" class=\"dataframe\">\n",
       "  <thead>\n",
       "    <tr style=\"text-align: right;\">\n",
       "      <th></th>\n",
       "      <th>representative_id</th>\n",
       "      <th>country</th>\n",
       "      <th>province</th>\n",
       "      <th>city</th>\n",
       "      <th>date</th>\n",
       "    </tr>\n",
       "  </thead>\n",
       "  <tbody>\n",
       "    <tr>\n",
       "      <th>0</th>\n",
       "      <td>603a2ef7d1fce046a5e63f8a</td>\n",
       "      <td>EGYPT</td>\n",
       "      <td>GIZA</td>\n",
       "      <td>HARAM3</td>\n",
       "      <td>2022-09-27 00:49:15.517</td>\n",
       "    </tr>\n",
       "    <tr>\n",
       "      <th>1</th>\n",
       "      <td>603a2ef7d1fce046a5e63f8a</td>\n",
       "      <td>EGYPT</td>\n",
       "      <td>GIZA</td>\n",
       "      <td>HARAM2</td>\n",
       "      <td>2022-09-27 00:49:18.861</td>\n",
       "    </tr>\n",
       "    <tr>\n",
       "      <th>2</th>\n",
       "      <td>5d665baa0c15a90015e6e925</td>\n",
       "      <td>KSA</td>\n",
       "      <td>CENTRAL</td>\n",
       "      <td>RIYADH</td>\n",
       "      <td>2022-09-27 01:15:41.275</td>\n",
       "    </tr>\n",
       "    <tr>\n",
       "      <th>3</th>\n",
       "      <td>5d665baa0c15a90015e6e925</td>\n",
       "      <td>KSA</td>\n",
       "      <td>CENTRAL</td>\n",
       "      <td>RIYADH</td>\n",
       "      <td>2022-09-27 01:15:46.198</td>\n",
       "    </tr>\n",
       "    <tr>\n",
       "      <th>4</th>\n",
       "      <td>5edbe555d290bc0017f51461</td>\n",
       "      <td>EGYPT</td>\n",
       "      <td>GHARBIA</td>\n",
       "      <td>GHARBIA1</td>\n",
       "      <td>2022-09-27 01:21:29.457</td>\n",
       "    </tr>\n",
       "    <tr>\n",
       "      <th>5</th>\n",
       "      <td>5edbdfcdbe2e390017c68c6d</td>\n",
       "      <td>EGYPT</td>\n",
       "      <td>ALEXANDRIA</td>\n",
       "      <td>EAST ALEX3</td>\n",
       "      <td>2022-09-27 01:28:28.476</td>\n",
       "    </tr>\n",
       "    <tr>\n",
       "      <th>6</th>\n",
       "      <td>5edbdfcdbe2e390017c68c6d</td>\n",
       "      <td>EGYPT</td>\n",
       "      <td>ALEXANDRIA</td>\n",
       "      <td>EAST ALEX1</td>\n",
       "      <td>2022-09-27 01:29:02.202</td>\n",
       "    </tr>\n",
       "    <tr>\n",
       "      <th>7</th>\n",
       "      <td>5edbdfcdbe2e390017c68c6d</td>\n",
       "      <td>EGYPT</td>\n",
       "      <td>ALEXANDRIA</td>\n",
       "      <td>EAST ALEX1</td>\n",
       "      <td>2022-09-27 01:29:08.047</td>\n",
       "    </tr>\n",
       "    <tr>\n",
       "      <th>8</th>\n",
       "      <td>5edbdfcdbe2e390017c68c6d</td>\n",
       "      <td>EGYPT</td>\n",
       "      <td>ALEXANDRIA</td>\n",
       "      <td>EAST ALEX1</td>\n",
       "      <td>2022-09-27 01:29:14.133</td>\n",
       "    </tr>\n",
       "    <tr>\n",
       "      <th>9</th>\n",
       "      <td>5edbe555d290bc0017f51461</td>\n",
       "      <td>EGYPT</td>\n",
       "      <td>GHARBIA</td>\n",
       "      <td>GHARBIA1</td>\n",
       "      <td>2022-09-27 01:37:41.277</td>\n",
       "    </tr>\n",
       "  </tbody>\n",
       "</table>\n",
       "</div>"
      ],
      "text/plain": [
       "          representative_id country    province        city  \\\n",
       "0  603a2ef7d1fce046a5e63f8a   EGYPT        GIZA      HARAM3   \n",
       "1  603a2ef7d1fce046a5e63f8a   EGYPT        GIZA      HARAM2   \n",
       "2  5d665baa0c15a90015e6e925     KSA     CENTRAL      RIYADH   \n",
       "3  5d665baa0c15a90015e6e925     KSA     CENTRAL      RIYADH   \n",
       "4  5edbe555d290bc0017f51461   EGYPT     GHARBIA    GHARBIA1   \n",
       "5  5edbdfcdbe2e390017c68c6d   EGYPT  ALEXANDRIA  EAST ALEX3   \n",
       "6  5edbdfcdbe2e390017c68c6d   EGYPT  ALEXANDRIA  EAST ALEX1   \n",
       "7  5edbdfcdbe2e390017c68c6d   EGYPT  ALEXANDRIA  EAST ALEX1   \n",
       "8  5edbdfcdbe2e390017c68c6d   EGYPT  ALEXANDRIA  EAST ALEX1   \n",
       "9  5edbe555d290bc0017f51461   EGYPT     GHARBIA    GHARBIA1   \n",
       "\n",
       "                     date  \n",
       "0 2022-09-27 00:49:15.517  \n",
       "1 2022-09-27 00:49:18.861  \n",
       "2 2022-09-27 01:15:41.275  \n",
       "3 2022-09-27 01:15:46.198  \n",
       "4 2022-09-27 01:21:29.457  \n",
       "5 2022-09-27 01:28:28.476  \n",
       "6 2022-09-27 01:29:02.202  \n",
       "7 2022-09-27 01:29:08.047  \n",
       "8 2022-09-27 01:29:14.133  \n",
       "9 2022-09-27 01:37:41.277  "
      ]
     },
     "execution_count": 13,
     "metadata": {},
     "output_type": "execute_result"
    }
   ],
   "source": [
    "# Display first 10 rows\n",
    "df.head(10)"
   ]
  },
  {
   "cell_type": "code",
   "execution_count": 14,
   "metadata": {},
   "outputs": [],
   "source": [
    "# Let's keep only the day date\n",
    "df['date'] = pd.to_datetime(df['date']).dt.date"
   ]
  },
  {
   "cell_type": "code",
   "execution_count": 15,
   "metadata": {},
   "outputs": [
    {
     "data": {
      "text/html": [
       "<div>\n",
       "<style scoped>\n",
       "    .dataframe tbody tr th:only-of-type {\n",
       "        vertical-align: middle;\n",
       "    }\n",
       "\n",
       "    .dataframe tbody tr th {\n",
       "        vertical-align: top;\n",
       "    }\n",
       "\n",
       "    .dataframe thead th {\n",
       "        text-align: right;\n",
       "    }\n",
       "</style>\n",
       "<table border=\"1\" class=\"dataframe\">\n",
       "  <thead>\n",
       "    <tr style=\"text-align: right;\">\n",
       "      <th></th>\n",
       "      <th>representative_id</th>\n",
       "      <th>country</th>\n",
       "      <th>province</th>\n",
       "      <th>city</th>\n",
       "      <th>date</th>\n",
       "    </tr>\n",
       "  </thead>\n",
       "  <tbody>\n",
       "    <tr>\n",
       "      <th>0</th>\n",
       "      <td>603a2ef7d1fce046a5e63f8a</td>\n",
       "      <td>EGYPT</td>\n",
       "      <td>GIZA</td>\n",
       "      <td>HARAM3</td>\n",
       "      <td>2022-09-27</td>\n",
       "    </tr>\n",
       "    <tr>\n",
       "      <th>1</th>\n",
       "      <td>603a2ef7d1fce046a5e63f8a</td>\n",
       "      <td>EGYPT</td>\n",
       "      <td>GIZA</td>\n",
       "      <td>HARAM2</td>\n",
       "      <td>2022-09-27</td>\n",
       "    </tr>\n",
       "    <tr>\n",
       "      <th>2</th>\n",
       "      <td>5d665baa0c15a90015e6e925</td>\n",
       "      <td>KSA</td>\n",
       "      <td>CENTRAL</td>\n",
       "      <td>RIYADH</td>\n",
       "      <td>2022-09-27</td>\n",
       "    </tr>\n",
       "    <tr>\n",
       "      <th>3</th>\n",
       "      <td>5d665baa0c15a90015e6e925</td>\n",
       "      <td>KSA</td>\n",
       "      <td>CENTRAL</td>\n",
       "      <td>RIYADH</td>\n",
       "      <td>2022-09-27</td>\n",
       "    </tr>\n",
       "    <tr>\n",
       "      <th>4</th>\n",
       "      <td>5edbe555d290bc0017f51461</td>\n",
       "      <td>EGYPT</td>\n",
       "      <td>GHARBIA</td>\n",
       "      <td>GHARBIA1</td>\n",
       "      <td>2022-09-27</td>\n",
       "    </tr>\n",
       "    <tr>\n",
       "      <th>5</th>\n",
       "      <td>5edbdfcdbe2e390017c68c6d</td>\n",
       "      <td>EGYPT</td>\n",
       "      <td>ALEXANDRIA</td>\n",
       "      <td>EAST ALEX3</td>\n",
       "      <td>2022-09-27</td>\n",
       "    </tr>\n",
       "    <tr>\n",
       "      <th>6</th>\n",
       "      <td>5edbdfcdbe2e390017c68c6d</td>\n",
       "      <td>EGYPT</td>\n",
       "      <td>ALEXANDRIA</td>\n",
       "      <td>EAST ALEX1</td>\n",
       "      <td>2022-09-27</td>\n",
       "    </tr>\n",
       "    <tr>\n",
       "      <th>7</th>\n",
       "      <td>5edbdfcdbe2e390017c68c6d</td>\n",
       "      <td>EGYPT</td>\n",
       "      <td>ALEXANDRIA</td>\n",
       "      <td>EAST ALEX1</td>\n",
       "      <td>2022-09-27</td>\n",
       "    </tr>\n",
       "    <tr>\n",
       "      <th>8</th>\n",
       "      <td>5edbdfcdbe2e390017c68c6d</td>\n",
       "      <td>EGYPT</td>\n",
       "      <td>ALEXANDRIA</td>\n",
       "      <td>EAST ALEX1</td>\n",
       "      <td>2022-09-27</td>\n",
       "    </tr>\n",
       "    <tr>\n",
       "      <th>9</th>\n",
       "      <td>5edbe555d290bc0017f51461</td>\n",
       "      <td>EGYPT</td>\n",
       "      <td>GHARBIA</td>\n",
       "      <td>GHARBIA1</td>\n",
       "      <td>2022-09-27</td>\n",
       "    </tr>\n",
       "  </tbody>\n",
       "</table>\n",
       "</div>"
      ],
      "text/plain": [
       "          representative_id country    province        city        date\n",
       "0  603a2ef7d1fce046a5e63f8a   EGYPT        GIZA      HARAM3  2022-09-27\n",
       "1  603a2ef7d1fce046a5e63f8a   EGYPT        GIZA      HARAM2  2022-09-27\n",
       "2  5d665baa0c15a90015e6e925     KSA     CENTRAL      RIYADH  2022-09-27\n",
       "3  5d665baa0c15a90015e6e925     KSA     CENTRAL      RIYADH  2022-09-27\n",
       "4  5edbe555d290bc0017f51461   EGYPT     GHARBIA    GHARBIA1  2022-09-27\n",
       "5  5edbdfcdbe2e390017c68c6d   EGYPT  ALEXANDRIA  EAST ALEX3  2022-09-27\n",
       "6  5edbdfcdbe2e390017c68c6d   EGYPT  ALEXANDRIA  EAST ALEX1  2022-09-27\n",
       "7  5edbdfcdbe2e390017c68c6d   EGYPT  ALEXANDRIA  EAST ALEX1  2022-09-27\n",
       "8  5edbdfcdbe2e390017c68c6d   EGYPT  ALEXANDRIA  EAST ALEX1  2022-09-27\n",
       "9  5edbe555d290bc0017f51461   EGYPT     GHARBIA    GHARBIA1  2022-09-27"
      ]
     },
     "execution_count": 15,
     "metadata": {},
     "output_type": "execute_result"
    }
   ],
   "source": [
    "# Display first 10 rows\n",
    "df.head(10)"
   ]
  },
  {
   "cell_type": "code",
   "execution_count": 16,
   "metadata": {},
   "outputs": [],
   "source": [
    "# Let's normalize country, province and city by removing spaces and lowercasing\n",
    "df['country'] = df['country'].str.lower().str.strip()\n",
    "df['province'] = df['province'].str.lower().str.strip()\n",
    "df['city'] = df['city'].str.lower().str.strip()"
   ]
  },
  {
   "cell_type": "code",
   "execution_count": 17,
   "metadata": {},
   "outputs": [],
   "source": [
    "# Create location which is a concatenation of country, province and city\n",
    "df['location'] = df['country'] + '-' + df['province'] + '-' + df['city']"
   ]
  },
  {
   "cell_type": "code",
   "execution_count": 18,
   "metadata": {},
   "outputs": [
    {
     "data": {
      "text/html": [
       "<div>\n",
       "<style scoped>\n",
       "    .dataframe tbody tr th:only-of-type {\n",
       "        vertical-align: middle;\n",
       "    }\n",
       "\n",
       "    .dataframe tbody tr th {\n",
       "        vertical-align: top;\n",
       "    }\n",
       "\n",
       "    .dataframe thead th {\n",
       "        text-align: right;\n",
       "    }\n",
       "</style>\n",
       "<table border=\"1\" class=\"dataframe\">\n",
       "  <thead>\n",
       "    <tr style=\"text-align: right;\">\n",
       "      <th></th>\n",
       "      <th>representative_id</th>\n",
       "      <th>country</th>\n",
       "      <th>province</th>\n",
       "      <th>city</th>\n",
       "      <th>date</th>\n",
       "      <th>location</th>\n",
       "    </tr>\n",
       "  </thead>\n",
       "  <tbody>\n",
       "    <tr>\n",
       "      <th>0</th>\n",
       "      <td>603a2ef7d1fce046a5e63f8a</td>\n",
       "      <td>egypt</td>\n",
       "      <td>giza</td>\n",
       "      <td>haram3</td>\n",
       "      <td>2022-09-27</td>\n",
       "      <td>egypt-giza-haram3</td>\n",
       "    </tr>\n",
       "    <tr>\n",
       "      <th>1</th>\n",
       "      <td>603a2ef7d1fce046a5e63f8a</td>\n",
       "      <td>egypt</td>\n",
       "      <td>giza</td>\n",
       "      <td>haram2</td>\n",
       "      <td>2022-09-27</td>\n",
       "      <td>egypt-giza-haram2</td>\n",
       "    </tr>\n",
       "    <tr>\n",
       "      <th>2</th>\n",
       "      <td>5d665baa0c15a90015e6e925</td>\n",
       "      <td>ksa</td>\n",
       "      <td>central</td>\n",
       "      <td>riyadh</td>\n",
       "      <td>2022-09-27</td>\n",
       "      <td>ksa-central-riyadh</td>\n",
       "    </tr>\n",
       "    <tr>\n",
       "      <th>3</th>\n",
       "      <td>5d665baa0c15a90015e6e925</td>\n",
       "      <td>ksa</td>\n",
       "      <td>central</td>\n",
       "      <td>riyadh</td>\n",
       "      <td>2022-09-27</td>\n",
       "      <td>ksa-central-riyadh</td>\n",
       "    </tr>\n",
       "    <tr>\n",
       "      <th>4</th>\n",
       "      <td>5edbe555d290bc0017f51461</td>\n",
       "      <td>egypt</td>\n",
       "      <td>gharbia</td>\n",
       "      <td>gharbia1</td>\n",
       "      <td>2022-09-27</td>\n",
       "      <td>egypt-gharbia-gharbia1</td>\n",
       "    </tr>\n",
       "    <tr>\n",
       "      <th>5</th>\n",
       "      <td>5edbdfcdbe2e390017c68c6d</td>\n",
       "      <td>egypt</td>\n",
       "      <td>alexandria</td>\n",
       "      <td>east alex3</td>\n",
       "      <td>2022-09-27</td>\n",
       "      <td>egypt-alexandria-east alex3</td>\n",
       "    </tr>\n",
       "    <tr>\n",
       "      <th>6</th>\n",
       "      <td>5edbdfcdbe2e390017c68c6d</td>\n",
       "      <td>egypt</td>\n",
       "      <td>alexandria</td>\n",
       "      <td>east alex1</td>\n",
       "      <td>2022-09-27</td>\n",
       "      <td>egypt-alexandria-east alex1</td>\n",
       "    </tr>\n",
       "    <tr>\n",
       "      <th>7</th>\n",
       "      <td>5edbdfcdbe2e390017c68c6d</td>\n",
       "      <td>egypt</td>\n",
       "      <td>alexandria</td>\n",
       "      <td>east alex1</td>\n",
       "      <td>2022-09-27</td>\n",
       "      <td>egypt-alexandria-east alex1</td>\n",
       "    </tr>\n",
       "    <tr>\n",
       "      <th>8</th>\n",
       "      <td>5edbdfcdbe2e390017c68c6d</td>\n",
       "      <td>egypt</td>\n",
       "      <td>alexandria</td>\n",
       "      <td>east alex1</td>\n",
       "      <td>2022-09-27</td>\n",
       "      <td>egypt-alexandria-east alex1</td>\n",
       "    </tr>\n",
       "    <tr>\n",
       "      <th>9</th>\n",
       "      <td>5edbe555d290bc0017f51461</td>\n",
       "      <td>egypt</td>\n",
       "      <td>gharbia</td>\n",
       "      <td>gharbia1</td>\n",
       "      <td>2022-09-27</td>\n",
       "      <td>egypt-gharbia-gharbia1</td>\n",
       "    </tr>\n",
       "  </tbody>\n",
       "</table>\n",
       "</div>"
      ],
      "text/plain": [
       "          representative_id country    province        city        date  \\\n",
       "0  603a2ef7d1fce046a5e63f8a   egypt        giza      haram3  2022-09-27   \n",
       "1  603a2ef7d1fce046a5e63f8a   egypt        giza      haram2  2022-09-27   \n",
       "2  5d665baa0c15a90015e6e925     ksa     central      riyadh  2022-09-27   \n",
       "3  5d665baa0c15a90015e6e925     ksa     central      riyadh  2022-09-27   \n",
       "4  5edbe555d290bc0017f51461   egypt     gharbia    gharbia1  2022-09-27   \n",
       "5  5edbdfcdbe2e390017c68c6d   egypt  alexandria  east alex3  2022-09-27   \n",
       "6  5edbdfcdbe2e390017c68c6d   egypt  alexandria  east alex1  2022-09-27   \n",
       "7  5edbdfcdbe2e390017c68c6d   egypt  alexandria  east alex1  2022-09-27   \n",
       "8  5edbdfcdbe2e390017c68c6d   egypt  alexandria  east alex1  2022-09-27   \n",
       "9  5edbe555d290bc0017f51461   egypt     gharbia    gharbia1  2022-09-27   \n",
       "\n",
       "                      location  \n",
       "0            egypt-giza-haram3  \n",
       "1            egypt-giza-haram2  \n",
       "2           ksa-central-riyadh  \n",
       "3           ksa-central-riyadh  \n",
       "4       egypt-gharbia-gharbia1  \n",
       "5  egypt-alexandria-east alex3  \n",
       "6  egypt-alexandria-east alex1  \n",
       "7  egypt-alexandria-east alex1  \n",
       "8  egypt-alexandria-east alex1  \n",
       "9       egypt-gharbia-gharbia1  "
      ]
     },
     "execution_count": 18,
     "metadata": {},
     "output_type": "execute_result"
    }
   ],
   "source": [
    "df.head(10)"
   ]
  },
  {
   "cell_type": "code",
   "execution_count": 19,
   "metadata": {},
   "outputs": [],
   "source": [
    "# for each date and representative, count the number of different locations\n",
    "df = df.groupby(['date', 'representative_id']).agg({'location': 'nunique'}).reset_index()"
   ]
  },
  {
   "cell_type": "code",
   "execution_count": 20,
   "metadata": {},
   "outputs": [
    {
     "data": {
      "text/html": [
       "<div>\n",
       "<style scoped>\n",
       "    .dataframe tbody tr th:only-of-type {\n",
       "        vertical-align: middle;\n",
       "    }\n",
       "\n",
       "    .dataframe tbody tr th {\n",
       "        vertical-align: top;\n",
       "    }\n",
       "\n",
       "    .dataframe thead th {\n",
       "        text-align: right;\n",
       "    }\n",
       "</style>\n",
       "<table border=\"1\" class=\"dataframe\">\n",
       "  <thead>\n",
       "    <tr style=\"text-align: right;\">\n",
       "      <th></th>\n",
       "      <th>date</th>\n",
       "      <th>representative_id</th>\n",
       "      <th>location</th>\n",
       "    </tr>\n",
       "  </thead>\n",
       "  <tbody>\n",
       "    <tr>\n",
       "      <th>0</th>\n",
       "      <td>2022-09-27</td>\n",
       "      <td>5d665baa0c15a90015e6e925</td>\n",
       "      <td>1</td>\n",
       "    </tr>\n",
       "    <tr>\n",
       "      <th>1</th>\n",
       "      <td>2022-09-27</td>\n",
       "      <td>5d665cee0c15a90015e6e927</td>\n",
       "      <td>5</td>\n",
       "    </tr>\n",
       "    <tr>\n",
       "      <th>2</th>\n",
       "      <td>2022-09-27</td>\n",
       "      <td>5d665d1a0c15a90015e6e928</td>\n",
       "      <td>3</td>\n",
       "    </tr>\n",
       "    <tr>\n",
       "      <th>3</th>\n",
       "      <td>2022-09-27</td>\n",
       "      <td>5da46821565e29001518856e</td>\n",
       "      <td>2</td>\n",
       "    </tr>\n",
       "    <tr>\n",
       "      <th>4</th>\n",
       "      <td>2022-09-27</td>\n",
       "      <td>5da4687f565e290015188570</td>\n",
       "      <td>2</td>\n",
       "    </tr>\n",
       "    <tr>\n",
       "      <th>5</th>\n",
       "      <td>2022-09-27</td>\n",
       "      <td>5da46a0b565e290015188578</td>\n",
       "      <td>1</td>\n",
       "    </tr>\n",
       "    <tr>\n",
       "      <th>6</th>\n",
       "      <td>2022-09-27</td>\n",
       "      <td>5da46b91565e29001518857d</td>\n",
       "      <td>2</td>\n",
       "    </tr>\n",
       "    <tr>\n",
       "      <th>7</th>\n",
       "      <td>2022-09-27</td>\n",
       "      <td>5da46cb6565e290015188596</td>\n",
       "      <td>4</td>\n",
       "    </tr>\n",
       "    <tr>\n",
       "      <th>8</th>\n",
       "      <td>2022-09-27</td>\n",
       "      <td>5da46ce7565e290015188597</td>\n",
       "      <td>8</td>\n",
       "    </tr>\n",
       "    <tr>\n",
       "      <th>9</th>\n",
       "      <td>2022-09-27</td>\n",
       "      <td>5da46dd9565e29001518859c</td>\n",
       "      <td>9</td>\n",
       "    </tr>\n",
       "  </tbody>\n",
       "</table>\n",
       "</div>"
      ],
      "text/plain": [
       "         date         representative_id  location\n",
       "0  2022-09-27  5d665baa0c15a90015e6e925         1\n",
       "1  2022-09-27  5d665cee0c15a90015e6e927         5\n",
       "2  2022-09-27  5d665d1a0c15a90015e6e928         3\n",
       "3  2022-09-27  5da46821565e29001518856e         2\n",
       "4  2022-09-27  5da4687f565e290015188570         2\n",
       "5  2022-09-27  5da46a0b565e290015188578         1\n",
       "6  2022-09-27  5da46b91565e29001518857d         2\n",
       "7  2022-09-27  5da46cb6565e290015188596         4\n",
       "8  2022-09-27  5da46ce7565e290015188597         8\n",
       "9  2022-09-27  5da46dd9565e29001518859c         9"
      ]
     },
     "execution_count": 20,
     "metadata": {},
     "output_type": "execute_result"
    }
   ],
   "source": [
    "df.head(10)"
   ]
  },
  {
   "attachments": {},
   "cell_type": "markdown",
   "metadata": {},
   "source": [
    "##### outliers"
   ]
  },
  {
   "cell_type": "code",
   "execution_count": 21,
   "metadata": {},
   "outputs": [
    {
     "data": {
      "text/plain": [
       "count    7060.000000\n",
       "mean        2.894476\n",
       "std         2.411910\n",
       "min         1.000000\n",
       "25%         1.000000\n",
       "50%         2.000000\n",
       "75%         4.000000\n",
       "max        27.000000\n",
       "Name: location, dtype: float64"
      ]
     },
     "execution_count": 21,
     "metadata": {},
     "output_type": "execute_result"
    }
   ],
   "source": [
    "df['location'].describe()"
   ]
  },
  {
   "cell_type": "code",
   "execution_count": 22,
   "metadata": {},
   "outputs": [
    {
     "name": "stderr",
     "output_type": "stream",
     "text": [
      "C:\\Users\\batyo\\AppData\\Local\\Temp\\ipykernel_9976\\2341467965.py:2: UserWarning: \n",
      "\n",
      "`distplot` is a deprecated function and will be removed in seaborn v0.14.0.\n",
      "\n",
      "Please adapt your code to use either `displot` (a figure-level function with\n",
      "similar flexibility) or `histplot` (an axes-level function for histograms).\n",
      "\n",
      "For a guide to updating your code to use the new functions, please see\n",
      "https://gist.github.com/mwaskom/de44147ed2974457ad6372750bbe5751\n",
      "\n",
      "  sns.distplot(df['location'])\n"
     ]
    },
    {
     "data": {
      "text/plain": [
       "<Axes: xlabel='location', ylabel='Density'>"
      ]
     },
     "execution_count": 22,
     "metadata": {},
     "output_type": "execute_result"
    },
    {
     "data": {
      "image/png": "[encoded data removed]",
      "text/plain": [
       "<Figure size 640x480 with 1 Axes>"
      ]
     },
     "metadata": {},
     "output_type": "display_data"
    }
   ],
   "source": [
    "# histogram of the number of locations\n",
    "sns.distplot(df['location'])"
   ]
  },
  {
   "cell_type": "code",
   "execution_count": 23,
   "metadata": {},
   "outputs": [
    {
     "name": "stdout",
     "output_type": "stream",
     "text": [
      "Skewness: 2.032945\n",
      "Kurtosis: 6.565557\n"
     ]
    }
   ],
   "source": [
    "#skewness and kurtosis\n",
    "print(\"Skewness: %f\" % df['location'].skew())\n",
    "print(\"Kurtosis: %f\" % df['location'].kurt())"
   ]
  },
  {
   "cell_type": "code",
   "execution_count": 24,
   "metadata": {},
   "outputs": [
    {
     "data": {
      "text/plain": [
       "<Axes: xlabel='location'>"
      ]
     },
     "execution_count": 24,
     "metadata": {},
     "output_type": "execute_result"
    },
    {
     "data": {
      "image/png": "[encoded data removed]",
      "text/plain": [
       "<Figure size 640x480 with 1 Axes>"
      ]
     },
     "metadata": {},
     "output_type": "display_data"
    }
   ],
   "source": [
    "# let's build a boxplot to check for outliers\n",
    "sns.boxplot(x=df['location'])"
   ]
  },
  {
   "attachments": {},
   "cell_type": "markdown",
   "metadata": {},
   "source": [
    "from histogram, skewness and kurtosis, we notice that: <br>\n",
    "There are outliers in the data, for example a representative cannot go to 27 different places in the same day."
   ]
  },
  {
   "attachments": {},
   "cell_type": "markdown",
   "metadata": {},
   "source": [
    "let's use the IQR method to detect and remove them"
   ]
  },
  {
   "cell_type": "code",
   "execution_count": 25,
   "metadata": {},
   "outputs": [
    {
     "name": "stdout",
     "output_type": "stream",
     "text": [
      "Original DataFrame:\n",
      "            date         representative_id  location\n",
      "0     2022-09-27  5d665baa0c15a90015e6e925         1\n",
      "1     2022-09-27  5d665cee0c15a90015e6e927         5\n",
      "2     2022-09-27  5d665d1a0c15a90015e6e928         3\n",
      "3     2022-09-27  5da46821565e29001518856e         2\n",
      "4     2022-09-27  5da4687f565e290015188570         2\n",
      "...          ...                       ...       ...\n",
      "7055  2023-04-30  63fe363716a46142165545d4         4\n",
      "7056  2023-04-30  63fe36e016a46142165545da         4\n",
      "7057  2023-04-30  640485c28f583f4266ddcb99         1\n",
      "7058  2023-04-30  64172e66ae90367af9eefbf5         1\n",
      "7059  2023-04-30  6436a6c8bb05fa24a6e7f68d         4\n",
      "\n",
      "[7060 rows x 3 columns]\n",
      "\n",
      "DataFrame with outliers removed:\n",
      "            date         representative_id  location\n",
      "0     2022-09-27  5d665baa0c15a90015e6e925         1\n",
      "1     2022-09-27  5d665cee0c15a90015e6e927         5\n",
      "2     2022-09-27  5d665d1a0c15a90015e6e928         3\n",
      "3     2022-09-27  5da46821565e29001518856e         2\n",
      "4     2022-09-27  5da4687f565e290015188570         2\n",
      "...          ...                       ...       ...\n",
      "7055  2023-04-30  63fe363716a46142165545d4         4\n",
      "7056  2023-04-30  63fe36e016a46142165545da         4\n",
      "7057  2023-04-30  640485c28f583f4266ddcb99         1\n",
      "7058  2023-04-30  64172e66ae90367af9eefbf5         1\n",
      "7059  2023-04-30  6436a6c8bb05fa24a6e7f68d         4\n",
      "\n",
      "[6801 rows x 3 columns]\n"
     ]
    }
   ],
   "source": [
    "# Calculate the interquartile range (IQR)\n",
    "Q1 = df['location'].quantile(0.25)\n",
    "Q3 = df['location'].quantile(0.75)\n",
    "IQR = Q3 - Q1\n",
    "\n",
    "# Calculate the lower and upper bounds\n",
    "lower_bound = Q1 - 1.5 * IQR\n",
    "upper_bound = Q3 + 1.5 * IQR\n",
    "\n",
    "# Remove the outliers from the DataFrame\n",
    "df_outliers_removed = df[(df['location'] >= lower_bound) & (df['location'] <= upper_bound)]\n",
    "# Remove the outliers from the DataFrame\n",
    "outliers = df[(df['location'] < lower_bound) | (df['location'] > upper_bound)]\n",
    "\n",
    "print(\"Original DataFrame:\")\n",
    "print(df)\n",
    "print(\"\\nDataFrame with outliers removed:\")\n",
    "print(df_outliers_removed)"
   ]
  },
  {
   "cell_type": "code",
   "execution_count": 26,
   "metadata": {},
   "outputs": [
    {
     "name": "stderr",
     "output_type": "stream",
     "text": [
      "C:\\Users\\batyo\\AppData\\Local\\Temp\\ipykernel_9976\\361173475.py:2: UserWarning: \n",
      "\n",
      "`distplot` is a deprecated function and will be removed in seaborn v0.14.0.\n",
      "\n",
      "Please adapt your code to use either `displot` (a figure-level function with\n",
      "similar flexibility) or `histplot` (an axes-level function for histograms).\n",
      "\n",
      "For a guide to updating your code to use the new functions, please see\n",
      "https://gist.github.com/mwaskom/de44147ed2974457ad6372750bbe5751\n",
      "\n",
      "  sns.distplot(df_outliers_removed['location'])\n"
     ]
    },
    {
     "data": {
      "text/plain": [
       "<Axes: xlabel='location', ylabel='Density'>"
      ]
     },
     "execution_count": 26,
     "metadata": {},
     "output_type": "execute_result"
    },
    {
     "data": {
      "image/png": "[encoded data removed]",
      "text/plain": [
       "<Figure size 640x480 with 1 Axes>"
      ]
     },
     "metadata": {},
     "output_type": "display_data"
    }
   ],
   "source": [
    "# histogram of the number of locations\n",
    "sns.distplot(df_outliers_removed['location'])"
   ]
  },
  {
   "cell_type": "code",
   "execution_count": 27,
   "metadata": {},
   "outputs": [
    {
     "name": "stdout",
     "output_type": "stream",
     "text": [
      "Skewness: 1.122454\n",
      "Kurtosis: 0.437992\n"
     ]
    }
   ],
   "source": [
    "# skewness and kurtosis\n",
    "print(\"Skewness: %f\" % df_outliers_removed['location'].skew())\n",
    "print(\"Kurtosis: %f\" % df_outliers_removed['location'].kurt())"
   ]
  },
  {
   "cell_type": "code",
   "execution_count": 28,
   "metadata": {},
   "outputs": [
    {
     "data": {
      "text/plain": [
       "<Axes: xlabel='location'>"
      ]
     },
     "execution_count": 28,
     "metadata": {},
     "output_type": "execute_result"
    },
    {
     "data": {
      "image/png": "[encoded data removed]",
      "text/plain": [
       "<Figure size 640x480 with 1 Axes>"
      ]
     },
     "metadata": {},
     "output_type": "display_data"
    }
   ],
   "source": [
    "# let's build a boxplot\n",
    "sns.boxplot(x=df_outliers_removed['location'])"
   ]
  },
  {
   "cell_type": "code",
   "execution_count": 29,
   "metadata": {},
   "outputs": [],
   "source": [
    "df = df_outliers_removed"
   ]
  },
  {
   "attachments": {},
   "cell_type": "markdown",
   "metadata": {},
   "source": [
    "# 3. Build a model.\n",
    "\n",
    "However, we don't need a model to answer our question, we can simply calculate the average number of different locations assigned to each representative per day.\n",
    "\n",
    "Epicycle:\n",
    "- Expectations: After preprocessing and visualizing the data, we should be able to answer the question by grouping on the representative and day columns and calculate the average of the location column.\n",
    "- Collection: Indeed we managed to answer the question.\n",
    "- Match: Indeed expectations and data collection match.\n"
   ]
  },
  {
   "cell_type": "code",
   "execution_count": 30,
   "metadata": {},
   "outputs": [
    {
     "name": "stdout",
     "output_type": "stream",
     "text": [
      "            representative_id  location\n",
      "0    5d665baa0c15a90015e6e925  1.281250\n",
      "1    5d665cee0c15a90015e6e927  6.210526\n",
      "2    5d665d1a0c15a90015e6e928  2.127273\n",
      "3    5d665d440c15a90015e6e929  2.969697\n",
      "4    5da46821565e29001518856e  1.864662\n",
      "..                        ...       ...\n",
      "201  640485c28f583f4266ddcb99  1.043478\n",
      "202  64172e66ae90367af9eefbf5  1.086957\n",
      "203  6436a5fbbb05fa24a6e7f674  4.000000\n",
      "204  6436a685bb05fa24a6e7f685  3.000000\n",
      "205  6436a6c8bb05fa24a6e7f68d  1.833333\n",
      "\n",
      "[206 rows x 2 columns]\n"
     ]
    }
   ],
   "source": [
    "# Calculatet the averge number of location visited per day for each representative\n",
    "df = df.groupby(['representative_id']).agg({'location': 'mean'}).reset_index()\n",
    "print(df)"
   ]
  },
  {
   "attachments": {},
   "cell_type": "markdown",
   "metadata": {},
   "source": [
    "# 4. Interpret the results.\n",
    "\n",
    "Epicycle:\n",
    "- Expectations: Useful insights and interpretations of the results, also we should be able to get the distribution of the average number of different locations assigned to each representative per day.\n",
    "- Collection: Indeed we can get the distribution and visualize it, and we can see that the average number of different locations visited by a rep in a single day varies from a representative to another.\n",
    "So we can conclude that some representatives have to travel more than others and that can be exhausting, time consuming and can affect the performance of the rep.\n",
    "- Match: Indeed expectations and data collection match."
   ]
  },
  {
   "attachments": {},
   "cell_type": "markdown",
   "metadata": {},
   "source": [
    "# 5. Communicate the results.\n",
    "\n",
    "Epicycle:\n",
    "- Expectations: The results should be communicated in a clear and concise way, we should be able to communicate the results in a way that is understandable by the stakeholders.\n",
    "- Collection: Indeed we can use boxplot and barplot to visualize the distribution and communicate the results.\n",
    "- Match: Indeed expectations and data collection match."
   ]
  },
  {
   "cell_type": "code",
   "execution_count": 97,
   "metadata": {},
   "outputs": [
    {
     "data": {
      "text/plain": [
       "<Axes: xlabel='location'>"
      ]
     },
     "execution_count": 97,
     "metadata": {},
     "output_type": "execute_result"
    },
    {
     "data": {
      "image/png": "[encoded data removed]",
      "text/plain": [
       "<Figure size 640x480 with 1 Axes>"
      ]
     },
     "metadata": {},
     "output_type": "display_data"
    }
   ],
   "source": [
    "# Build a boxplot\n",
    "sns.boxplot(x=df['location'])"
   ]
  },
  {
   "cell_type": "code",
   "execution_count": 31,
   "metadata": {},
   "outputs": [
    {
     "data": {
      "text/plain": [
       "<Axes: xlabel='representative_id', ylabel='location'>"
      ]
     },
     "execution_count": 31,
     "metadata": {},
     "output_type": "execute_result"
    },
    {
     "data": {
      "image/png": "[encoded data removed]",
      "text/plain": [
       "<Figure size 640x480 with 1 Axes>"
      ]
     },
     "metadata": {},
     "output_type": "display_data"
    }
   ],
   "source": [
    "# sort the dataframe by location\n",
    "df = df.sort_values(by=['location'], ascending=False)\n",
    "# Build Bar chart\n",
    "sns.barplot(x=df['representative_id'], y=df['location'])"
   ]
  },
  {
   "cell_type": "code",
   "execution_count": 32,
   "metadata": {},
   "outputs": [
    {
     "name": "stderr",
     "output_type": "stream",
     "text": [
      "C:\\Users\\batyo\\AppData\\Local\\Temp\\ipykernel_9976\\363229656.py:2: UserWarning: \n",
      "\n",
      "`distplot` is a deprecated function and will be removed in seaborn v0.14.0.\n",
      "\n",
      "Please adapt your code to use either `displot` (a figure-level function with\n",
      "similar flexibility) or `histplot` (an axes-level function for histograms).\n",
      "\n",
      "For a guide to updating your code to use the new functions, please see\n",
      "https://gist.github.com/mwaskom/de44147ed2974457ad6372750bbe5751\n",
      "\n",
      "  sns.distplot(df['location'])\n"
     ]
    },
    {
     "data": {
      "text/plain": [
       "<Axes: xlabel='location', ylabel='Density'>"
      ]
     },
     "execution_count": 32,
     "metadata": {},
     "output_type": "execute_result"
    },
    {
     "data": {
      "image/png": "[encoded data removed]",
      "text/plain": [
       "<Figure size 640x480 with 1 Axes>"
      ]
     },
     "metadata": {},
     "output_type": "display_data"
    }
   ],
   "source": [
    "# distribution of the number of locations visited per day\n",
    "sns.distplot(df['location'])"
   ]
  },
  {
   "attachments": {},
   "cell_type": "markdown",
   "metadata": {},
   "source": [
    "we can see that the average number different locations visited by a rep in a single day varies from a representative to another.\n",
    "\n",
    "So we can conclude that some representatives have to travel more than others and that can be excausting, time consuming and can affect the performance of the rep."
   ]
  }
 ],
 "metadata": {
  "kernelspec": {
   "display_name": "Python 3",
   "language": "python",
   "name": "python3"
  },
  "language_info": {
   "codemirror_mode": {
    "name": "ipython",
    "version": 3
   },
   "file_extension": ".py",
   "mimetype": "text/x-python",
   "name": "python",
   "nbconvert_exporter": "python",
   "pygments_lexer": "ipython3",
   "version": "3.10.6"
  },
  "orig_nbformat": 4
 },
 "nbformat": 4,
 "nbformat_minor": 2
}
