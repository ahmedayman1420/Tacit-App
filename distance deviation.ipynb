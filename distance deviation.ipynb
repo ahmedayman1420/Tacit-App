{
 "cells": [
  {
   "attachments": {},
   "cell_type": "markdown",
   "metadata": {},
   "source": [
    "# Doctors' locations\n",
    "\n",
    "- Each location will be assigned to the number of doctors in this location, thus it will be represented with a histogram."
   ]
  },
  {
   "cell_type": "code",
   "execution_count": 101,
   "metadata": {},
   "outputs": [
    {
     "data": {
      "text/plain": [
       "{'_id': {'$oid': '5f04d5b8a6239f001792f103'},\n",
       " 'company_id': {'$oid': '5b3b4b3335a5880e703ef673'},\n",
       " 'user_id': {'$oid': '5e79f34480e96b0017ccd2d6'},\n",
       " 'month_year': 'July-2020',\n",
       " 'events': [{'_id': {'$oid': '5f04d5b8a6239f001792f104'},\n",
       "   'type': 'login',\n",
       "   'device': 'Android',\n",
       "   'app': 'carrier',\n",
       "   'timestamp': {'$date': '2020-07-07T20:06:16.795Z'}},\n",
       "  {'_id': {'$oid': '5f071ea4a8a9ea001770a678'},\n",
       "   'type': 'login',\n",
       "   'device': 'Android',\n",
       "   'app': 'carrier',\n",
       "   'timestamp': {'$date': '2020-07-09T13:41:56.631Z'}},\n",
       "  {'_id': {'$oid': '5f071ea5a8a9ea001770a679'},\n",
       "   'type': 'login',\n",
       "   'device': 'Android',\n",
       "   'app': 'carrier',\n",
       "   'timestamp': {'$date': '2020-07-09T13:41:57.335Z'}},\n",
       "  {'_id': {'$oid': '5f071ea6a8a9ea001770a67a'},\n",
       "   'type': 'login',\n",
       "   'device': 'Android',\n",
       "   'app': 'carrier',\n",
       "   'timestamp': {'$date': '2020-07-09T13:41:58.055Z'}}],\n",
       " '__v': 0}"
      ]
     },
     "execution_count": 101,
     "metadata": {},
     "output_type": "execute_result"
    }
   ],
   "source": [
    "import json\n",
    "import numpy as np\n",
    "import collections\n",
    "import matplotlib.pyplot as plt\n",
    "from locations import company_provinces\n",
    "from locations import cairo_cities\n",
    "from locations import alexandria_cities\n",
    "from locations import giza_cities\n",
    "from locations import dakahlia_cities\n",
    "from locations import sharkia_cities\n",
    "\n",
    "biotech_id = '5dc7b030a7180339745e658e'\n",
    "\n",
    "# Define the path to your JSON file\n",
    "customers_file_path = 'dataset/customers.json'\n",
    "companies_file_path = 'dataset/companies.json'\n",
    "trackers_file_path = 'dataset/trackers.json'\n",
    "\n",
    "# Open the file and load the contents as a Python object\n",
    "with open(customers_file_path) as f:\n",
    "    customers = json.load(f)\n",
    "\n",
    "with open(companies_file_path) as f:\n",
    "    companies = json.load(f)\n",
    "\n",
    "with open(trackers_file_path) as f:\n",
    "    trackers = json.load(f)\n",
    "\n",
    "# Now you can access the data just like any other Python object\n",
    "trackers[0]\n"
   ]
  },
  {
   "cell_type": "code",
   "execution_count": 102,
   "metadata": {},
   "outputs": [],
   "source": [
    "# ========== ----- ========== Trackers Analysis ========== ----- ========== #\n",
    "# Get tracker events with type:call & distanceDeviation > 0\n",
    "\n",
    "call_events = []\n",
    "all_events_count = 0\n",
    "reps_ids = []\n",
    "companies_ids = []\n",
    "\n",
    "for tracker in trackers:\n",
    "    for event in tracker['events']:\n",
    "        if (event['type'] == 'call'):\n",
    "            all_events_count += 1\n",
    "            if tracker['company_id']['$oid'] != biotech_id and 'geoLocation' in event and 'distanceDeviation' in event and event['distanceDeviation'] > 0:\n",
    "                reps_ids.append(tracker['user_id']['$oid'])\n",
    "                companies_ids.append(tracker['company_id']['$oid'])\n",
    "                \n",
    "                event['user_id'] = tracker['user_id']\n",
    "                event['company_id'] = tracker['company_id']\n",
    "                call_events.append(event)\n",
    "\n",
    "call_events_count = len(call_events)\n"
   ]
  },
  {
   "cell_type": "code",
   "execution_count": 103,
   "metadata": {},
   "outputs": [
    {
     "name": "stdout",
     "output_type": "stream",
     "text": [
      "Total number of events:  332532\n",
      "Number of call events with distance deviation:  13637 \n",
      "\n",
      "Number of companies that use distance deviation feature:  1\n",
      "Number of reps that use distance deviation feature:  33\n"
     ]
    }
   ],
   "source": [
    "print(\"Total number of events: \", all_events_count)\n",
    "print(\"Number of call events with distance deviation: \", call_events_count, \"\\n\")\n",
    "\n",
    "\n",
    "reps_ids = list(set(reps_ids))  # remove duplicates from rep's ids\n",
    "companies_ids = list(set(companies_ids))  # remove duplicates from rep's ids\n",
    "print(\"Number of companies that use distance deviation feature: \", len(companies_ids))\n",
    "print(\"Number of reps that use distance deviation feature: \", len(reps_ids))"
   ]
  },
  {
   "cell_type": "code",
   "execution_count": 104,
   "metadata": {},
   "outputs": [],
   "source": [
    "\n",
    "# Get reps & their customers\n",
    "\n",
    "reps_customers_count = {}\n",
    "for companies_id in companies_ids:\n",
    "    for company in companies:\n",
    "        if company['_id']['$oid'] == companies_id:\n",
    "            for customer in company['customers']:\n",
    "                for user in customer['users']:\n",
    "                    if user['$oid'] in reps_ids:\n",
    "                        if user['$oid'] in reps_customers_count:\n",
    "                            reps_customers_count[user['$oid']] += 1\n",
    "                        else:\n",
    "                            reps_customers_count[user['$oid']] = 1\n"
   ]
  },
  {
   "cell_type": "code",
   "execution_count": 124,
   "metadata": {},
   "outputs": [
    {
     "name": "stdout",
     "output_type": "stream",
     "text": [
      "First quartile (Q1):  138.0\n",
      "Second quartile (Q2 or Median):  155.0\n",
      "Third quartile (Q3):  184.0\n",
      "Maximuim value:  215 \n",
      "\n",
      "Number of reps in Q1:  9\n",
      "Number of reps in Q2:  8\n",
      "Number of reps in Q3:  8\n",
      "Number of reps in Q4:  8\n"
     ]
    }
   ],
   "source": [
    "reps_customers_count_values = list(reps_customers_count.values())\n",
    "q1 = np.percentile(reps_customers_count_values, 25)\n",
    "q2 = np.percentile(reps_customers_count_values, 50)\n",
    "q3 = np.percentile(reps_customers_count_values, 75)\n",
    "print(\"First quartile (Q1): \", q1)\n",
    "print(\"Second quartile (Q2 or Median): \", q2)\n",
    "print(\"Third quartile (Q3): \", q3)\n",
    "print(\"Maximum value: \", max(reps_customers_count_values), '\\n')\n",
    "\n",
    "\n",
    "reps_customers_count_q1 = {key: value for key,\n",
    "                 value in reps_customers_count.items() if value <= q1}\n",
    "reps_customers_count_q2 = {key: value for key,\n",
    "                           value in reps_customers_count.items() if value <= q2 and value > q1}\n",
    "reps_customers_count_q3 = {key: value for key,\n",
    "                           value in reps_customers_count.items() if value <= q3 and value > q2}\n",
    "reps_customers_count_q4 = {key: value for key,\n",
    "                           value in reps_customers_count.items() if value > q3}\n",
    "\n",
    "print(\"Number of reps in Q1: \",len(reps_customers_count_q1))\n",
    "print(\"Number of reps in Q2: \",len(reps_customers_count_q2))\n",
    "print(\"Number of reps in Q3: \",len(reps_customers_count_q3))\n",
    "print(\"Number of reps in Q4: \",len(reps_customers_count_q4))\n"
   ]
  },
  {
   "cell_type": "code",
   "execution_count": 152,
   "metadata": {},
   "outputs": [
    {
     "data": {
      "image/png": "[encoded data removed]",
      "text/plain": [
       "<Figure size 720x720 with 1 Axes>"
      ]
     },
     "metadata": {
      "needs_background": "light"
     },
     "output_type": "display_data"
    }
   ],
   "source": [
    "deviations = {}\n",
    "q1 = {}\n",
    "q2 = {}\n",
    "q3 = {}\n",
    "q4 = {}\n",
    "for call_event in call_events:\n",
    "    if (call_event['distanceDeviation'] > 2):\n",
    "        if call_event['user_id']['$oid'] in list(reps_customers_count_q1.keys()):\n",
    "            if call_event['user_id']['$oid'] in q1:\n",
    "                q1[call_event['user_id']['$oid']] += 1\n",
    "            else:\n",
    "                q1[call_event['user_id']['$oid']] = 1\n",
    "\n",
    "            if 'q1' in deviations:\n",
    "                deviations['q1'] += 1\n",
    "                \n",
    "            else:\n",
    "                deviations['q1'] = 1\n",
    "\n",
    "        if call_event['user_id']['$oid'] in list(reps_customers_count_q2.keys()):\n",
    "            if call_event['user_id']['$oid'] in q2:\n",
    "                q2[call_event['user_id']['$oid']] += 1\n",
    "            else:\n",
    "                q2[call_event['user_id']['$oid']] = 1\n",
    "            \n",
    "            if 'q2' in deviations:\n",
    "                deviations['q2'] += 1\n",
    "            else:\n",
    "                deviations['q2'] = 1\n",
    "\n",
    "        if call_event['user_id']['$oid'] in list(reps_customers_count_q3.keys()):\n",
    "            if call_event['user_id']['$oid'] in q3:\n",
    "                q3[call_event['user_id']['$oid']] += 1\n",
    "            else:\n",
    "                q3[call_event['user_id']['$oid']] = 1\n",
    "            \n",
    "            if 'q3' in deviations:\n",
    "                deviations['q3'] += 1\n",
    "            else:\n",
    "                deviations['q3'] = 1\n",
    "\n",
    "        if call_event['user_id']['$oid'] in list(reps_customers_count_q4.keys()):\n",
    "            if call_event['user_id']['$oid'] in q4:\n",
    "                q4[call_event['user_id']['$oid']] += 1\n",
    "            else:\n",
    "                q4[call_event['user_id']['$oid']] = 1\n",
    "            \n",
    "            if 'q4' in deviations:\n",
    "                deviations['q4'] += 1\n",
    "            else:\n",
    "                deviations['q4'] = 1\n",
    "\n",
    "\n",
    "# Create a bar chart of the deviation counts\n",
    "deviations_quartiles = list(deviations.keys())\n",
    "deviations_counts = list(deviations.values())\n",
    "\n",
    "fig = plt.figure(figsize=(10, 10))\n",
    "plt.bar(deviations_quartiles, deviations_counts)\n",
    "\n",
    "# Add labels and title to the chart\n",
    "plt.xlabel('Quartiles')\n",
    "plt.ylabel('Count')\n",
    "plt.title('Distance deviations')\n",
    "\n",
    "\n",
    "# Display the chart\n",
    "plt.show()\n",
    "\n"
   ]
  },
  {
   "cell_type": "code",
   "execution_count": 155,
   "metadata": {},
   "outputs": [
    {
     "data": {
      "image/png": "[encoded data removed]",
      "text/plain": [
       "<Figure size 576x576 with 1 Axes>"
      ]
     },
     "metadata": {},
     "output_type": "display_data"
    },
    {
     "name": "stdout",
     "output_type": "stream",
     "text": [
      "First quartile user's deviations {'60991087ec46a6508e80de9f': 326, '622da6ad5edd2e1b182be6e8': 45, '5da46cb6565e290015188596': 50, '6088317c1b0cd32097b8099c': 4, '622dc11a5edd2e1b182bf467': 5, '63381aba00040d62460cd738': 68, '63381afe00040d62460cd759': 9}\n",
      "Second quartile user's deviations {'609277b11b0cd32097b8dc32': 467, '61fb82aa9bc51b4d552c0f29': 213, '5da46d08565e290015188598': 379, '5da46f92565e2900151885b8': 145, '60eafba5bac6bd5ba961b161': 234, '5da46b46565e29001518857c': 490, '5da46ce7565e290015188597': 278, '628b3c337ee2c0232015abd3': 507}\n",
      "Third quartile user's deviations {'5da46d6e565e29001518859a': 50, '627a2aa8042459270f281af4': 84, '6277b4aea6a55c55f7197195': 248, '5da46d9f565e29001518859b': 5, '6085619506454d220fcac4a0': 49, '631142831fb1de726b649c49': 96, '636cbf7a6d339d59ca690006': 66}\n",
      "Fourth quartile user's deviations {'5da46aab565e29001518857a': 149, '6061c07af7606271c5c4da3d': 754, '60b741421ab64b1c837e01a4': 770, '627671a44318a823e6f71806': 178, '5da46c8d565e290015188583': 136, '5d665d440c15a90015e6e929': 27, '63381b9100040d62460cd776': 218}\n"
     ]
    }
   ],
   "source": [
    "\n",
    "# Create a pie chart\n",
    "custom_colors = ['#FFC300', '#FF5733', '#C70039', '#900C3F']\n",
    "fig, ax = plt.subplots(figsize=(8, 8))\n",
    "ax.pie(deviations_counts, labels=deviations_quartiles,\n",
    "       colors=custom_colors, labeldistance=1.2, textprops={'color': 'white', 'fontsize': 16})\n",
    "# Add a title\n",
    "plt.title('Distance deviations')\n",
    "# Show the chart\n",
    "plt.show()\n",
    "\n",
    "print(\"First quartile user's deviations\", q1)\n",
    "print(\"Second quartile user's deviations\", q2)\n",
    "print(\"Third quartile user's deviations\", q3)\n",
    "print(\"Fourth quartile user's deviations\", q4)\n"
   ]
  },
  {
   "cell_type": "code",
   "execution_count": null,
   "metadata": {},
   "outputs": [],
   "source": []
  }
 ],
 "metadata": {
  "interpreter": {
   "hash": "dc14f7734d659c7a792a107c713d39d3b0ed48a15e8cd1909946cea7b1916837"
  },
  "kernelspec": {
   "display_name": "Python 3",
   "language": "python",
   "name": "python3"
  },
  "language_info": {
   "codemirror_mode": {
    "name": "ipython",
    "version": 3
   },
   "file_extension": ".py",
   "mimetype": "text/x-python",
   "name": "python",
   "nbconvert_exporter": "python",
   "pygments_lexer": "ipython3",
   "version": "3.9.7"
  }
 },
 "nbformat": 4,
 "nbformat_minor": 2
}
