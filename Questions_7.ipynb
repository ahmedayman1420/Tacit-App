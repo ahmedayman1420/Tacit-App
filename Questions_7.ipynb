{
 "cells": [
  {
   "attachments": {},
   "cell_type": "markdown",
   "metadata": {},
   "source": [
    "Solving question 7, is there a relation between time of visits and productivity?\n",
    "we will use average visits time of the rep in the day and number of visits in the day and perform some hypothesis tests"
   ]
  },
  {
   "attachments": {},
   "cell_type": "markdown",
   "metadata": {},
   "source": [
    "The following pipeline was used to produce the data, it aggregates visits on day to calculate total duration time and num of visits made on that day for each user in a given company, it keeps data with visits > 3, and total duration of presentations > 10 minutes"
   ]
  },
  {
   "cell_type": "code",
   "execution_count": null,
   "metadata": {},
   "outputs": [],
   "source": [
    "'''\n",
    "The following query was used on mongo db to retrieve the data for a single company\n",
    "\n",
    "[\n",
    "    {\n",
    "        '$match': {\n",
    "            'company_id': ObjectId('5b98d0eafb6fc01dae4341c5')\n",
    "        }\n",
    "    }, {\n",
    "        '$unwind': {\n",
    "            'path': '$calls'\n",
    "        }\n",
    "    }, {\n",
    "        '$addFields': {\n",
    "            'day': {\n",
    "                '$concat': [\n",
    "                    {\n",
    "                        '$toString': {\n",
    "                            '$year': '$calls.start_timestamp'\n",
    "                        }\n",
    "                    }, '-', {\n",
    "                        '$toString': {\n",
    "                            '$month': '$calls.start_timestamp'\n",
    "                        }\n",
    "                    }, '-', {\n",
    "                        '$toString': {\n",
    "                            '$dayOfMonth': '$calls.start_timestamp'\n",
    "                        }\n",
    "                    }\n",
    "                ]\n",
    "            }, \n",
    "            'timestamp': {\n",
    "                '$hour': '$calls.start_timestamp'\n",
    "            }\n",
    "        }\n",
    "    }, {\n",
    "        '$group': {\n",
    "            '_id': {\n",
    "                'user_id': '$user.id', \n",
    "                'dayOfMonth': '$day'\n",
    "            }, \n",
    "            'total_duration': {\n",
    "                '$sum': '$calls.duration'\n",
    "            }, \n",
    "            'avg_timestamp': {\n",
    "                '$avg': '$timestamp'\n",
    "            }, \n",
    "            'visitsNum': {\n",
    "                '$sum': 1\n",
    "            }\n",
    "        }\n",
    "    }, {\n",
    "        '$match': {\n",
    "            'visitsNum': {\n",
    "                '$gt': 3\n",
    "            }, \n",
    "            'total_duration': {\n",
    "                '$gt': 600\n",
    "            }, \n",
    "            'avg_timestamp': {\n",
    "                '$gt': 5\n",
    "            }\n",
    "        }\n",
    "    }, {\n",
    "        '$project': {\n",
    "            'userid': '$_id.user_id', \n",
    "            'day': '$_id.dayOfMonth', \n",
    "            'totalDurationTime': '$total_duration', \n",
    "            'averageVisitsTime': '$avg_timestamp', \n",
    "            'visitsNum': '$visitsNum'\n",
    "        }\n",
    "    }\n",
    "]\n",
    "\n",
    "'''"
   ]
  },
  {
   "cell_type": "code",
   "execution_count": 1,
   "metadata": {},
   "outputs": [],
   "source": [
    "import pandas as pd\n",
    "import matplotlib.pyplot as plt"
   ]
  },
  {
   "cell_type": "code",
   "execution_count": 3,
   "metadata": {},
   "outputs": [],
   "source": [
    "df = pd.read_csv('visitsPerDay.csv')"
   ]
  },
  {
   "cell_type": "code",
   "execution_count": 4,
   "metadata": {},
   "outputs": [
    {
     "data": {
      "text/html": [
       "<div>\n",
       "<style scoped>\n",
       "    .dataframe tbody tr th:only-of-type {\n",
       "        vertical-align: middle;\n",
       "    }\n",
       "\n",
       "    .dataframe tbody tr th {\n",
       "        vertical-align: top;\n",
       "    }\n",
       "\n",
       "    .dataframe thead th {\n",
       "        text-align: right;\n",
       "    }\n",
       "</style>\n",
       "<table border=\"1\" class=\"dataframe\">\n",
       "  <thead>\n",
       "    <tr style=\"text-align: right;\">\n",
       "      <th></th>\n",
       "      <th>userid</th>\n",
       "      <th>day</th>\n",
       "      <th>totalDurationTime</th>\n",
       "      <th>averageVisitsTime</th>\n",
       "      <th>visitsNum</th>\n",
       "    </tr>\n",
       "  </thead>\n",
       "  <tbody>\n",
       "    <tr>\n",
       "      <th>0</th>\n",
       "      <td>621dd65e26d90d2838e4fdbd</td>\n",
       "      <td>3/13/2023</td>\n",
       "      <td>2783</td>\n",
       "      <td>14.583333</td>\n",
       "      <td>12</td>\n",
       "    </tr>\n",
       "    <tr>\n",
       "      <th>1</th>\n",
       "      <td>6061c07af7606271c5c4da3d</td>\n",
       "      <td>10/11/2022</td>\n",
       "      <td>5241</td>\n",
       "      <td>16.941176</td>\n",
       "      <td>17</td>\n",
       "    </tr>\n",
       "    <tr>\n",
       "      <th>2</th>\n",
       "      <td>628b3d307ee2c0232015abd5</td>\n",
       "      <td>10/12/2022</td>\n",
       "      <td>1631</td>\n",
       "      <td>13.090909</td>\n",
       "      <td>11</td>\n",
       "    </tr>\n",
       "    <tr>\n",
       "      <th>3</th>\n",
       "      <td>5da46ce7565e290015188597</td>\n",
       "      <td>4/1/2023</td>\n",
       "      <td>2140</td>\n",
       "      <td>14.083333</td>\n",
       "      <td>12</td>\n",
       "    </tr>\n",
       "    <tr>\n",
       "      <th>4</th>\n",
       "      <td>5da46f92565e2900151885b8</td>\n",
       "      <td>3/7/2023</td>\n",
       "      <td>1694</td>\n",
       "      <td>18.700000</td>\n",
       "      <td>10</td>\n",
       "    </tr>\n",
       "  </tbody>\n",
       "</table>\n",
       "</div>"
      ],
      "text/plain": [
       "                     userid         day  totalDurationTime  averageVisitsTime  \\\n",
       "0  621dd65e26d90d2838e4fdbd   3/13/2023               2783          14.583333   \n",
       "1  6061c07af7606271c5c4da3d  10/11/2022               5241          16.941176   \n",
       "2  628b3d307ee2c0232015abd5  10/12/2022               1631          13.090909   \n",
       "3  5da46ce7565e290015188597    4/1/2023               2140          14.083333   \n",
       "4  5da46f92565e2900151885b8    3/7/2023               1694          18.700000   \n",
       "\n",
       "   visitsNum  \n",
       "0         12  \n",
       "1         17  \n",
       "2         11  \n",
       "3         12  \n",
       "4         10  "
      ]
     },
     "execution_count": 4,
     "metadata": {},
     "output_type": "execute_result"
    }
   ],
   "source": [
    "df.head()"
   ]
  },
  {
   "cell_type": "code",
   "execution_count": 3,
   "metadata": {},
   "outputs": [
    {
     "data": {
      "text/html": [
       "<div>\n",
       "<style scoped>\n",
       "    .dataframe tbody tr th:only-of-type {\n",
       "        vertical-align: middle;\n",
       "    }\n",
       "\n",
       "    .dataframe tbody tr th {\n",
       "        vertical-align: top;\n",
       "    }\n",
       "\n",
       "    .dataframe thead th {\n",
       "        text-align: right;\n",
       "    }\n",
       "</style>\n",
       "<table border=\"1\" class=\"dataframe\">\n",
       "  <thead>\n",
       "    <tr style=\"text-align: right;\">\n",
       "      <th></th>\n",
       "      <th>totalDurationTime</th>\n",
       "      <th>averageVisitsTime</th>\n",
       "      <th>visitsNum</th>\n",
       "    </tr>\n",
       "  </thead>\n",
       "  <tbody>\n",
       "    <tr>\n",
       "      <th>count</th>\n",
       "      <td>3822.000000</td>\n",
       "      <td>3822.000000</td>\n",
       "      <td>3822.000000</td>\n",
       "    </tr>\n",
       "    <tr>\n",
       "      <th>mean</th>\n",
       "      <td>2483.042125</td>\n",
       "      <td>16.369463</td>\n",
       "      <td>10.862376</td>\n",
       "    </tr>\n",
       "    <tr>\n",
       "      <th>std</th>\n",
       "      <td>7767.322204</td>\n",
       "      <td>2.267639</td>\n",
       "      <td>3.178194</td>\n",
       "    </tr>\n",
       "    <tr>\n",
       "      <th>min</th>\n",
       "      <td>602.000000</td>\n",
       "      <td>8.857143</td>\n",
       "      <td>4.000000</td>\n",
       "    </tr>\n",
       "    <tr>\n",
       "      <th>25%</th>\n",
       "      <td>1146.250000</td>\n",
       "      <td>14.666667</td>\n",
       "      <td>9.000000</td>\n",
       "    </tr>\n",
       "    <tr>\n",
       "      <th>50%</th>\n",
       "      <td>1805.000000</td>\n",
       "      <td>16.166667</td>\n",
       "      <td>10.000000</td>\n",
       "    </tr>\n",
       "    <tr>\n",
       "      <th>75%</th>\n",
       "      <td>2683.750000</td>\n",
       "      <td>17.854396</td>\n",
       "      <td>13.000000</td>\n",
       "    </tr>\n",
       "    <tr>\n",
       "      <th>max</th>\n",
       "      <td>245089.000000</td>\n",
       "      <td>23.000000</td>\n",
       "      <td>35.000000</td>\n",
       "    </tr>\n",
       "  </tbody>\n",
       "</table>\n",
       "</div>"
      ],
      "text/plain": [
       "       totalDurationTime  averageVisitsTime    visitsNum\n",
       "count        3822.000000        3822.000000  3822.000000\n",
       "mean         2483.042125          16.369463    10.862376\n",
       "std          7767.322204           2.267639     3.178194\n",
       "min           602.000000           8.857143     4.000000\n",
       "25%          1146.250000          14.666667     9.000000\n",
       "50%          1805.000000          16.166667    10.000000\n",
       "75%          2683.750000          17.854396    13.000000\n",
       "max        245089.000000          23.000000    35.000000"
      ]
     },
     "execution_count": 3,
     "metadata": {},
     "output_type": "execute_result"
    }
   ],
   "source": [
    "df.describe()"
   ]
  },
  {
   "cell_type": "code",
   "execution_count": 4,
   "metadata": {},
   "outputs": [],
   "source": [
    "#Remove outliers in totalDurationTime using percentile\n",
    "df = df[df.totalDurationTime < df.totalDurationTime.quantile(.95)]"
   ]
  },
  {
   "cell_type": "code",
   "execution_count": 5,
   "metadata": {},
   "outputs": [
    {
     "data": {
      "text/html": [
       "<div>\n",
       "<style scoped>\n",
       "    .dataframe tbody tr th:only-of-type {\n",
       "        vertical-align: middle;\n",
       "    }\n",
       "\n",
       "    .dataframe tbody tr th {\n",
       "        vertical-align: top;\n",
       "    }\n",
       "\n",
       "    .dataframe thead th {\n",
       "        text-align: right;\n",
       "    }\n",
       "</style>\n",
       "<table border=\"1\" class=\"dataframe\">\n",
       "  <thead>\n",
       "    <tr style=\"text-align: right;\">\n",
       "      <th></th>\n",
       "      <th>totalDurationTime</th>\n",
       "      <th>averageVisitsTime</th>\n",
       "      <th>visitsNum</th>\n",
       "    </tr>\n",
       "  </thead>\n",
       "  <tbody>\n",
       "    <tr>\n",
       "      <th>count</th>\n",
       "      <td>3630.000000</td>\n",
       "      <td>3630.000000</td>\n",
       "      <td>3630.000000</td>\n",
       "    </tr>\n",
       "    <tr>\n",
       "      <th>mean</th>\n",
       "      <td>1926.543802</td>\n",
       "      <td>16.403154</td>\n",
       "      <td>10.736639</td>\n",
       "    </tr>\n",
       "    <tr>\n",
       "      <th>std</th>\n",
       "      <td>1009.952169</td>\n",
       "      <td>2.286213</td>\n",
       "      <td>3.104510</td>\n",
       "    </tr>\n",
       "    <tr>\n",
       "      <th>min</th>\n",
       "      <td>602.000000</td>\n",
       "      <td>8.857143</td>\n",
       "      <td>4.000000</td>\n",
       "    </tr>\n",
       "    <tr>\n",
       "      <th>25%</th>\n",
       "      <td>1120.750000</td>\n",
       "      <td>14.700000</td>\n",
       "      <td>9.000000</td>\n",
       "    </tr>\n",
       "    <tr>\n",
       "      <th>50%</th>\n",
       "      <td>1727.500000</td>\n",
       "      <td>16.200000</td>\n",
       "      <td>10.000000</td>\n",
       "    </tr>\n",
       "    <tr>\n",
       "      <th>75%</th>\n",
       "      <td>2490.000000</td>\n",
       "      <td>17.900000</td>\n",
       "      <td>12.000000</td>\n",
       "    </tr>\n",
       "    <tr>\n",
       "      <th>max</th>\n",
       "      <td>5259.000000</td>\n",
       "      <td>23.000000</td>\n",
       "      <td>35.000000</td>\n",
       "    </tr>\n",
       "  </tbody>\n",
       "</table>\n",
       "</div>"
      ],
      "text/plain": [
       "       totalDurationTime  averageVisitsTime    visitsNum\n",
       "count        3630.000000        3630.000000  3630.000000\n",
       "mean         1926.543802          16.403154    10.736639\n",
       "std          1009.952169           2.286213     3.104510\n",
       "min           602.000000           8.857143     4.000000\n",
       "25%          1120.750000          14.700000     9.000000\n",
       "50%          1727.500000          16.200000    10.000000\n",
       "75%          2490.000000          17.900000    12.000000\n",
       "max          5259.000000          23.000000    35.000000"
      ]
     },
     "execution_count": 5,
     "metadata": {},
     "output_type": "execute_result"
    }
   ],
   "source": [
    "df.describe()"
   ]
  },
  {
   "cell_type": "code",
   "execution_count": 6,
   "metadata": {},
   "outputs": [
    {
     "name": "stdout",
     "output_type": "stream",
     "text": [
      "<class 'pandas.core.frame.DataFrame'>\n",
      "Int64Index: 3630 entries, 0 to 3821\n",
      "Data columns (total 5 columns):\n",
      " #   Column             Non-Null Count  Dtype  \n",
      "---  ------             --------------  -----  \n",
      " 0   userid             3630 non-null   object \n",
      " 1   day                3630 non-null   object \n",
      " 2   totalDurationTime  3630 non-null   int64  \n",
      " 3   averageVisitsTime  3630 non-null   float64\n",
      " 4   visitsNum          3630 non-null   int64  \n",
      "dtypes: float64(1), int64(2), object(2)\n",
      "memory usage: 170.2+ KB\n"
     ]
    }
   ],
   "source": [
    "df.info()"
   ]
  },
  {
   "cell_type": "code",
   "execution_count": 5,
   "metadata": {},
   "outputs": [
    {
     "data": {
      "image/png": "[encoded data removed]",
      "text/plain": [
       "<Figure size 432x288 with 1 Axes>"
      ]
     },
     "metadata": {
      "needs_background": "light"
     },
     "output_type": "display_data"
    }
   ],
   "source": [
    "#Plot the distribution of averageVisitsTime\n",
    "df.averageVisitsTime.hist(bins=100)\n",
    "plt.xlabel('Average Visits Time')\n",
    "plt.ylabel('Frequency')\n",
    "plt.show()"
   ]
  },
  {
   "attachments": {},
   "cell_type": "markdown",
   "metadata": {},
   "source": [
    "Let's test the following hypothesis:\n",
    "Days with averageVisitsTime between 12 and 17 have visitsNum less than days with averageVisits Time before 12 or after 17"
   ]
  },
  {
   "cell_type": "code",
   "execution_count": 8,
   "metadata": {},
   "outputs": [
    {
     "name": "stdout",
     "output_type": "stream",
     "text": [
      "Number of users with average visit time between 12 and 17:  1120\n",
      "Number of users with average visit time outside 12 and 17:  2510\n",
      "10.871428571428572 10.676494023904382\n"
     ]
    }
   ],
   "source": [
    "df_12_17 = df[(df.averageVisitsTime >= 12) & (df.averageVisitsTime <= 15)]\n",
    "df_rest = df[(df.averageVisitsTime < 12) | (df.averageVisitsTime > 15)]\n",
    "\n",
    "n_12_17 = df_12_17.shape[0]\n",
    "n_rest = df_rest.shape[0]\n",
    "\n",
    "mean_12_17 = df_12_17.visitsNum.mean()\n",
    "mean_rest = df_rest.visitsNum.mean()\n",
    "\n",
    "std_12_17 = df_12_17.visitsNum.std()\n",
    "std_rest = df_rest.visitsNum.std()\n",
    "\n",
    "print('Number of users with average visit time between 12 and 17: ', n_12_17)\n",
    "print('Number of users with average visit time outside 12 and 17: ', n_rest)\n",
    "\n",
    "print(mean_12_17, mean_rest)"
   ]
  },
  {
   "cell_type": "code",
   "execution_count": 9,
   "metadata": {},
   "outputs": [
    {
     "name": "stdout",
     "output_type": "stream",
     "text": [
      "Z-score:  -1.8236341235091715\n"
     ]
    }
   ],
   "source": [
    "Z = (mean_rest - mean_12_17) / (std_12_17**2 / n_12_17 + std_rest**2 / n_rest)**0.5\n",
    "print('Z-score: ', Z)"
   ]
  },
  {
   "attachments": {},
   "cell_type": "markdown",
   "metadata": {},
   "source": [
    "We will retain the null hypothesis which means those who work between 12 and 17 don't necessarily perform worse than those who work at other parts of the day"
   ]
  },
  {
   "attachments": {},
   "cell_type": "markdown",
   "metadata": {},
   "source": [
    "Let's test another hypothesis, that those who work at night, after 5pm, make less visits on average than those who work before 5 pm"
   ]
  },
  {
   "cell_type": "code",
   "execution_count": 10,
   "metadata": {},
   "outputs": [
    {
     "name": "stdout",
     "output_type": "stream",
     "text": [
      "Number of users with average visit time after 5pm:  1397\n",
      "Number of users with average visit time before 5pm:  2233\n",
      "10.425912670007158 10.931034482758621\n"
     ]
    }
   ],
   "source": [
    "df_after_17 = df[df.averageVisitsTime >= 17]\n",
    "df_before_17 = df[df.averageVisitsTime < 17]\n",
    "\n",
    "n_after_17 = df_after_17.shape[0]\n",
    "n_before_17 = df_before_17.shape[0]\n",
    "\n",
    "mean_after_17 = df_after_17.visitsNum.mean()\n",
    "mean_before_17 = df_before_17.visitsNum.mean()\n",
    "\n",
    "std_after_17 = df_after_17.visitsNum.std()\n",
    "std_before_17 = df_before_17.visitsNum.std()\n",
    "\n",
    "print('Number of users with average visit time after 5pm: ', n_after_17)\n",
    "print('Number of users with average visit time before 5pm: ', n_before_17)\n",
    "\n",
    "print(mean_after_17, mean_before_17)"
   ]
  },
  {
   "cell_type": "code",
   "execution_count": 11,
   "metadata": {},
   "outputs": [
    {
     "name": "stdout",
     "output_type": "stream",
     "text": [
      "Z-score:  4.7723575688853055\n"
     ]
    }
   ],
   "source": [
    "Z = (mean_before_17 - mean_after_17) / (std_after_17**2 / n_after_17 + std_before_17**2 / n_before_17)**0.5\n",
    "print('Z-score: ', Z)"
   ]
  },
  {
   "cell_type": "code",
   "execution_count": 12,
   "metadata": {},
   "outputs": [
    {
     "name": "stdout",
     "output_type": "stream",
     "text": [
      "P value:  9.104093456632667e-07\n"
     ]
    }
   ],
   "source": [
    "#Calculate P value\n",
    "from scipy.stats import norm\n",
    "p = norm.sf(Z)\n",
    "print('P value: ', p)"
   ]
  },
  {
   "attachments": {},
   "cell_type": "markdown",
   "metadata": {},
   "source": [
    "Since p value is < 0.05 we can reject the null hypothesis which is The average num of visits per day is the same"
   ]
  },
  {
   "attachments": {},
   "cell_type": "markdown",
   "metadata": {},
   "source": [
    "Let's repeat the same hypothesis tests but using total presentation duration times as the productivity measure"
   ]
  },
  {
   "cell_type": "code",
   "execution_count": 14,
   "metadata": {},
   "outputs": [
    {
     "name": "stdout",
     "output_type": "stream",
     "text": [
      "Z-score:  -2.703274043371748\n",
      "1995.5794642857143 1895.7390438247012\n"
     ]
    }
   ],
   "source": [
    "mean_12_17 = df_12_17.totalDurationTime.mean()\n",
    "mean_rest = df_rest.totalDurationTime.mean()\n",
    "\n",
    "std_12_17 = df_12_17.totalDurationTime.std()\n",
    "std_rest = df_rest.totalDurationTime.std()\n",
    "\n",
    "Z = (mean_rest - mean_12_17) / (std_12_17**2 / n_12_17 + std_rest**2 / n_rest)**0.5\n",
    "print('Z-score: ', Z)\n",
    "\n",
    "print(mean_12_17, mean_rest)"
   ]
  },
  {
   "attachments": {},
   "cell_type": "markdown",
   "metadata": {},
   "source": [
    "The null hypothesis will be retained as well that there is no difference between those whose who work at rush hour and others"
   ]
  },
  {
   "cell_type": "code",
   "execution_count": 18,
   "metadata": {},
   "outputs": [
    {
     "name": "stdout",
     "output_type": "stream",
     "text": [
      "Z-score:  3.276612877223941\n"
     ]
    }
   ],
   "source": [
    "n_after_17 = df_after_17.shape[0]\n",
    "n_before_17 = df_before_17.shape[0]\n",
    "\n",
    "mean_after_17 = df_after_17.totalDurationTime.mean()\n",
    "mean_before_17 = df_before_17.totalDurationTime.mean()\n",
    "\n",
    "std_after_17 = df_after_17.totalDurationTime.std()\n",
    "std_before_17 = df_before_17.totalDurationTime.std()\n",
    "\n",
    "Z = (mean_before_17 - mean_after_17) / (std_after_17**2 / n_after_17 + std_before_17**2 / n_before_17)**0.5\n",
    "print('Z-score: ', Z)"
   ]
  },
  {
   "cell_type": "code",
   "execution_count": 19,
   "metadata": {},
   "outputs": [
    {
     "name": "stdout",
     "output_type": "stream",
     "text": [
      "P value:  0.0005253015427523482\n"
     ]
    }
   ],
   "source": [
    "p = norm.sf(Z)\n",
    "print('P value: ', p)"
   ]
  },
  {
   "attachments": {},
   "cell_type": "markdown",
   "metadata": {},
   "source": [
    "Again the null hypothesis is rejected and we can conclude the following:\n",
    "\n",
    "1- Those who work at average time of rush hour between 12pm and 5pm don't have less productivity than others\n",
    "\n",
    "2- Those who work at day shift (before 5 PM) have higher productivity than those who work at night shift (after 5pm)"
   ]
  }
 ],
 "metadata": {
  "kernelspec": {
   "display_name": "base",
   "language": "python",
   "name": "python3"
  },
  "language_info": {
   "codemirror_mode": {
    "name": "ipython",
    "version": 3
   },
   "file_extension": ".py",
   "mimetype": "text/x-python",
   "name": "python",
   "nbconvert_exporter": "python",
   "pygments_lexer": "ipython3",
   "version": "3.9.7"
  },
  "orig_nbformat": 4
 },
 "nbformat": 4,
 "nbformat_minor": 2
}
