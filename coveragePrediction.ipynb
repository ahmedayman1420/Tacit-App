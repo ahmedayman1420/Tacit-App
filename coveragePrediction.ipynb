{
 "cells": [
  {
   "attachments": {},
   "cell_type": "markdown",
   "metadata": {},
   "source": [
    "# Doctors' locations\n",
    "\n",
    "- Each location will be assigned to the number of doctors in this location, thus it will be represented with a histogram."
   ]
  },
  {
   "cell_type": "code",
   "execution_count": 69,
   "metadata": {},
   "outputs": [],
   "source": [
    "# ========== ----- ========== Import Libraries ========== ----- ========== #\n",
    "\n",
    "import json\n",
    "import collections\n",
    "import datetime\n",
    "import pandas as pd\n",
    "import math\n",
    "# from pgmpy.models import BayesianModel\n",
    "# from pgmpy.estimators import MaximumLikelihoodEstimator\n",
    "from scipy.stats import chi2_contingency, fisher_exact\n",
    "import numpy as np\n",
    "from matplotlib import pyplot as plt\n",
    "from sklearn import svm\n",
    "from sklearn.model_selection import GridSearchCV\n",
    "from sklearn.model_selection import train_test_split\n",
    "from sklearn.metrics import confusion_matrix\n",
    "from sklearn.metrics import accuracy_score\n",
    "\n",
    "# ========== ----- ========== End ========== ----- ========== #"
   ]
  },
  {
   "cell_type": "code",
   "execution_count": 70,
   "metadata": {},
   "outputs": [],
   "source": [
    "# ========== ----- ========== Load Dataset ========== ----- ========== #\n",
    "\n",
    "# Define the path to your JSON file\n",
    "customers_file_path = 'dataset/customers.json'\n",
    "companies_file_path = 'dataset/companies.json'\n",
    "visits_file_path = 'dataset/visits.json'\n",
    "\n",
    "\n",
    "company_id = '5b98d0eafb6fc01dae4341c5'\n",
    "\n",
    "# Open the file and load the contents as a Python object\n",
    "with open(visits_file_path) as f:\n",
    "    visits = json.load(f)\n",
    "\n",
    "with open(companies_file_path) as f:\n",
    "    companies = json.load(f)\n",
    "\n",
    "with open(customers_file_path) as f:\n",
    "    customers = json.load(f)\n",
    "\n",
    "# ========== ----- ========== End ========== ----- ========== #"
   ]
  },
  {
   "cell_type": "code",
   "execution_count": 71,
   "metadata": {},
   "outputs": [],
   "source": [
    "# ========== ----- ========== Service Functions ========== ----- ========== #\n",
    "\n",
    "def getUserName(id):\n",
    "    for company in companies:\n",
    "        if (company['_id']['$oid']) == company_id:\n",
    "            for user in company['users']:\n",
    "                if user['_id']['$oid'] == id:\n",
    "                    return user['name']\n",
    "\n",
    "    return 'Not Found'\n",
    "\n",
    "\n",
    "def getCustomerTargetFrequency(ids):\n",
    "\n",
    "    target_frequencies = []\n",
    "    for customer in customers:\n",
    "        if customer['_id']['$oid'] in ids:\n",
    "            if 'targeted_frequency' in customer and customer['targeted_frequency'] != None:\n",
    "                if int(customer['targeted_frequency']) > 0:\n",
    "                    target_frequencies.append(\n",
    "                        int(customer['targeted_frequency']))\n",
    "                else:\n",
    "                    target_frequencies.append(1)\n",
    "            else:\n",
    "                target_frequencies.append(1)\n",
    "    return target_frequencies\n",
    "\n",
    "\n",
    "def getUserVisits(reps_ids, start_date, end_date):\n",
    "\n",
    "    reps_visits = {}\n",
    "\n",
    "    for visit in visits:\n",
    "        if visit['user']['id']['$oid'] in reps_ids:\n",
    "\n",
    "            createdAt = datetime.datetime(\n",
    "                int(visit['createdAt']['$date'][0:4]), int(visit['createdAt']['$date'][5:7]), int(visit['createdAt']['$date'][8:10]))\n",
    "\n",
    "            if createdAt > start_date and createdAt < end_date:\n",
    "                if visit['user']['id']['$oid'] in reps_visits:\n",
    "                    reps_visits[visit['user']['id']['$oid']] += 1\n",
    "                else:\n",
    "                    reps_visits[visit['user']['id']['$oid']] = 1\n",
    "\n",
    "    return reps_visits\n",
    "\n",
    "def calculate_area(coordinates):\n",
    "    # Append the first coordinate at the end to complete the loop\n",
    "    coordinates.append(coordinates[0])\n",
    "\n",
    "    # Initialize the variables\n",
    "    area = 0\n",
    "    n = len(coordinates)\n",
    "\n",
    "    # Apply the Shoelace formula\n",
    "    for i in range(n - 1):\n",
    "        lat1, lon1 = coordinates[i]\n",
    "        lat2, lon2 = coordinates[i + 1]\n",
    "        area += math.radians(lon2 - lon1) * (2 + math.sin(math.radians(lat1)) + math.sin(math.radians(lat2)))\n",
    "\n",
    "    # Calculate the absolute value of the area and convert it to square kilometers\n",
    "    area = abs(area * 6371 * 6371 / 2)\n",
    "\n",
    "    return area\n",
    "\n",
    "\n",
    "# ========== ----- ========== End ========== ----- ========== #\n"
   ]
  },
  {
   "cell_type": "code",
   "execution_count": 72,
   "metadata": {},
   "outputs": [],
   "source": [
    "# ========== ----- ========== Get Sales Rep ========== ----- ========== #\n",
    "\n",
    "sales_reps = [] # list of sales reps\n",
    "supervisors = {}  # map between user_id & supervisor_id\n",
    "\n",
    "for company in companies:\n",
    "    if (company['_id']['$oid']) == company_id:\n",
    "        for user in company['users']:\n",
    "            if ('supervisor_id' in user and user['supervisor_id'] != None and 'isSalesRep' in user and 'isActive' in user and 'country' in user):\n",
    "                if (user['isSalesRep'] == True and user['isActive'] == True and user['country'] == \"EGYPT\"):\n",
    "                    sales_reps.append(user)\n",
    "                    if user['_id']['$oid'] not in supervisors:\n",
    "                        supervisors[user['_id']['$oid']] = {\n",
    "                            'id': user['supervisor_id']['$oid']}\n",
    "\n",
    "# ========== ----- ========== End ========== ----- ========== #\n"
   ]
  },
  {
   "cell_type": "code",
   "execution_count": 73,
   "metadata": {},
   "outputs": [],
   "source": [
    "# ========== ----- ========== Get Sales Rep's Customers ========== ----- ========== #\n",
    "\n",
    "users_ids = list(supervisors.keys())\n",
    "reps_customers = {} # map between reps & customers\n",
    "reps_customers_locations = {} # map between reps & customers locations\n",
    "\n",
    "for company in companies:\n",
    "    if (company['_id']['$oid']) == company_id:\n",
    "        for customer in company['customers']:\n",
    "            for user in customer['users']:\n",
    "                if user['$oid'] in users_ids:\n",
    "                    if user['$oid'] in reps_customers:\n",
    "                        reps_customers[user['$oid']].append(\n",
    "                            customer['customer_id']['$oid'])\n",
    "                    else:\n",
    "                        reps_customers[user['$oid']] = [\n",
    "                            customer['customer_id']['$oid']]\n",
    "                    \n",
    "\n",
    "for customer in customers:\n",
    "    if 'company_id' in customer and customer['company_id']['$oid'] == company_id:\n",
    "        for user,user_customers in zip(list(reps_customers.keys()),list(reps_customers.values())):\n",
    "            if customer['_id']['$oid'] in user_customers:\n",
    "                if \"geolocation\" in customer and customer['geolocation']['long'] > 0 and customer['geolocation']['lat'] > 0:\n",
    "                    if user in reps_customers_locations:\n",
    "                        reps_customers_locations[user].append((customer['geolocation']['lat'],customer['geolocation']['long']))\n",
    "                    else:\n",
    "                        reps_customers_locations[user] = [(customer['geolocation']['lat'],customer['geolocation']['long'])]\n",
    "\n",
    "# ========== ----- ========== End ========== ----- ========== #\n"
   ]
  },
  {
   "cell_type": "code",
   "execution_count": 74,
   "metadata": {},
   "outputs": [],
   "source": [
    "# ========== ----- ========== Create Dataset ========== ----- ========== #\n",
    "\n",
    "start_dates = [datetime.datetime(2022, 11, 1), datetime.datetime(2022, 12, 1), datetime.datetime(\n",
    "    2023, 1, 1), datetime.datetime(2023, 2, 1), datetime.datetime(2023, 3, 1), datetime.datetime(2023, 4, 1)]\n",
    "\n",
    "end_dates = [datetime.datetime(2022, 12, 1), datetime.datetime(2023, 1, 1), datetime.datetime(\n",
    "    2023, 2, 1), datetime.datetime(2023, 3, 1), datetime.datetime(2023, 4, 1), datetime.datetime(2023, 5, 1)]\n",
    "\n",
    "\n",
    "reps_tragetFreq = {}\n",
    "for key, value in zip(list(reps_customers.keys()), list(reps_customers.values())):\n",
    "    reps_tragetFreq[key] = sum(getCustomerTargetFrequency(value))\n",
    "\n",
    "dataset = []\n",
    "\n",
    "for start_date, end_date in zip(start_dates, end_dates):\n",
    "\n",
    "    reps_visits = getUserVisits(list(supervisors.keys()), start_date, end_date)\n",
    "    for sales_rep in sales_reps:\n",
    "        row = []\n",
    "        row.append(sales_rep['name'])\n",
    "        row.append(getUserName(supervisors[sales_rep['_id']['$oid']]['id']))\n",
    "        row.append(start_date)\n",
    "        row.append(len(reps_customers[sales_rep['_id']['$oid']]))\n",
    "        row.append(calculate_area(reps_customers_locations[sales_rep['_id']['$oid']]))\n",
    "        row.append(reps_tragetFreq[sales_rep['_id']['$oid']])\n",
    "\n",
    "        if sales_rep['_id']['$oid'] in reps_visits:\n",
    "            row.append(reps_visits[sales_rep['_id']['$oid']])\n",
    "            temp_visits = reps_visits[sales_rep['_id']['$oid']]\n",
    "        else:\n",
    "            row.append(0)\n",
    "            temp_visits = 0\n",
    "\n",
    "        if (temp_visits /\n",
    "            reps_tragetFreq[sales_rep['_id']['$oid']])*1 > 0.75:\n",
    "                row.append(1)\n",
    "        else:\n",
    "                row.append(0)\n",
    "                \n",
    "        dataset.append(row)\n",
    "\n",
    "# ========== ----- ========== End ========== ----- ========== #\n"
   ]
  },
  {
   "cell_type": "code",
   "execution_count": 79,
   "metadata": {},
   "outputs": [
    {
     "name": "stdout",
     "output_type": "stream",
     "text": [
      "                    Rep          Supervisor      Month  Customers  \\\n",
      "0         Ahmed Harhash          Eslam Nasr 2022-11-01        143   \n",
      "1     Ahmed Abdelrahman  Ahmed Abou ElFotoh 2022-11-01        173   \n",
      "2  Mahmoud Abd Elmonaem          Eslam Nasr 2022-11-01        117   \n",
      "3    Hamees Baha Eldien      Nehad Elgenedy 2022-11-01        209   \n",
      "4          Mohab Shawky  Ahmed Abou ElFotoh 2022-11-01        132   \n",
      "\n",
      "          Area  Target_Frequency  Visits  Coverage  \n",
      "0  1860.922832               218     175         1  \n",
      "1   358.319003               250     255         1  \n",
      "2   503.953472               176     199         1  \n",
      "3   548.327136               287      70         0  \n",
      "4   666.430047               169     181         1  \n",
      "Training set shape: (173, 4)\n",
      "Test set shape: (44, 4)\n"
     ]
    }
   ],
   "source": [
    "# ========== ----- ========== Dataset Filtering ========== ----- ========== #\n",
    "\n",
    "dataset = pd.DataFrame(dataset, columns=[\"Rep\", \"Supervisor\", \"Month\",\n",
    "                                            \"Customers\",\"Area\" ,\"Target_Frequency\",  \"Visits\", \"Coverage\"])\n",
    "dataset = dataset[dataset['Visits'] != 0]\n",
    "\n",
    "print(dataset.head())\n",
    "\n",
    "# Split the data into training and test sets\n",
    "X_train, X_test, y_train, y_test = train_test_split(\n",
    "dataset.drop(['Coverage', 'Rep','Supervisor', 'Month'], axis=1), dataset['Coverage'], test_size=0.2, random_state=42)\n",
    "\n",
    "# Print the shapes of the training and test sets\n",
    "print('Training set shape:', X_train.shape)\n",
    "print('Test set shape:', X_test.shape)\n",
    "# ========== ----- ========== End ========== ----- ========== #"
   ]
  },
  {
   "cell_type": "code",
   "execution_count": 80,
   "metadata": {},
   "outputs": [
    {
     "name": "stdout",
     "output_type": "stream",
     "text": [
      "SVC(C=0.1, gamma=1, kernel='linear')\n"
     ]
    }
   ],
   "source": [
    "# ========== ----- ========== SVM Model ========== ----- ========== #\n",
    "\n",
    "param_grid = {'C': [0.1, 1, 5, 10, 20, 30, 40, 50,\n",
    "                    60, 70, 100, 200], 'gamma': [1, 0.1, 0.01, 0.001], 'kernel': ['linear', 'rbf', 'poly', 'sigmoid']}\n",
    "\n",
    "model = svm.SVC()\n",
    "grid = GridSearchCV(model, param_grid, refit=True)\n",
    "grid.fit(X_train, y_train)\n",
    "print(grid.best_estimator_)\n",
    "\n",
    "# ========== ----- ========== End ========== ----- ========== #\n"
   ]
  },
  {
   "cell_type": "code",
   "execution_count": 96,
   "metadata": {},
   "outputs": [
    {
     "name": "stdout",
     "output_type": "stream",
     "text": [
      "[[15  0]\n",
      " [ 0 29]]\n",
      "Accuracy: 1.0\n"
     ]
    }
   ],
   "source": [
    "# ========== ----- ========== Test SVM Model ========== ----- ========== #\n",
    "\n",
    "# selected_X_test = X_test[X_test['Area'] > 1000]\n",
    "# selected_Y_test = y_test[X_test['Area'] > 1000]\n",
    "\n",
    "# print(selected_X_test.shape)\n",
    "# Predict the target variable for the test data\n",
    "y_pred = grid.predict(X_test)\n",
    "\n",
    "# Evaluate the model performance\n",
    "accuracy = accuracy_score(y_test, y_pred)\n",
    "print(confusion_matrix(y_test, y_pred))\n",
    "print('Accuracy:', accuracy)\n",
    "\n",
    "# ========== ----- ========== End ========== ----- ========== #"
   ]
  },
  {
   "cell_type": "code",
   "execution_count": 103,
   "metadata": {},
   "outputs": [
    {
     "data": {
      "image/png": "[encoded data removed]",
      "text/plain": [
       "<Figure size 640x480 with 2 Axes>"
      ]
     },
     "metadata": {},
     "output_type": "display_data"
    }
   ],
   "source": [
    "plt.scatter(X_test['Area'], X_test['Customers'], c=y_pred, s=50, cmap='autumn')\n",
    "plt.xlabel('Area (km^2)')\n",
    "plt.ylabel('No. of Customers')\n",
    "plt.title('Coverage of Reps based on Area and No. of Customers')\n",
    "colorbar = plt.colorbar()\n",
    "colorbar.set_label('Coverage', rotation=270, labelpad=25)\n",
    "\n",
    "plt.show()"
   ]
  },
  {
   "attachments": {},
   "cell_type": "markdown",
   "metadata": {},
   "source": [
    "We can notice that high number of customers with large area leads to lower probability of coverage.\n",
    "Using this model we can predict if a rep will be able to achieve the target frequence or not based on the assigned customers and their locations."
   ]
  },
  {
   "cell_type": "code",
   "execution_count": null,
   "metadata": {},
   "outputs": [],
   "source": []
  }
 ],
 "metadata": {
  "interpreter": {
   "hash": "dc14f7734d659c7a792a107c713d39d3b0ed48a15e8cd1909946cea7b1916837"
  },
  "kernelspec": {
   "display_name": "Python 3",
   "language": "python",
   "name": "python3"
  },
  "language_info": {
   "codemirror_mode": {
    "name": "ipython",
    "version": 3
   },
   "file_extension": ".py",
   "mimetype": "text/x-python",
   "name": "python",
   "nbconvert_exporter": "python",
   "pygments_lexer": "ipython3",
   "version": "3.10.6"
  }
 },
 "nbformat": 4,
 "nbformat_minor": 2
}
