{
 "cells": [
  {
   "attachments": {},
   "cell_type": "markdown",
   "metadata": {},
   "source": [
    "make sure that each product id of a call in a visit is indeed present in products collection"
   ]
  },
  {
   "cell_type": "code",
   "execution_count": null,
   "metadata": {},
   "outputs": [],
   "source": [
    "# make sure that each product id of a call in a visit is indeed present in products collection\n",
    "products_ids = [product['_id'] for product in products]\n",
    "\n",
    "product_invalid_id = []\n",
    "product_valid_id = []\n",
    "product_no_id = 0\n",
    "for i, visit in enumerate(visits):\n",
    "    if i % 1000 == 0:\n",
    "        print(i, len(product_invalid_id), len(set(product_invalid_id)), len(product_valid_id), len(set(product_valid_id)))\n",
    "    for call in visit['calls']:\n",
    "        if 'id' not in call['product']:\n",
    "            product_no_id += 1\n",
    "        elif call['product']['id'] not in products_ids:\n",
    "            product_invalid_id.append(call['product']['id'])\n",
    "        else:\n",
    "            product_valid_id.append(call['product']['id'])"
   ]
  },
  {
   "cell_type": "code",
   "execution_count": null,
   "metadata": {},
   "outputs": [],
   "source": [
    "# Define the pipeline\n",
    "pipeline = [\n",
    "    {\n",
    "        '$unwind': '$calls'\n",
    "    }, \n",
    "    {\n",
    "        '$group': {\n",
    "            '_id': {\n",
    "                'user_id': '$user.id', \n",
    "                'product_id': '$calls.product.id'\n",
    "            }, \n",
    "            'average_duration': {\n",
    "                '$avg': '$calls.duration'\n",
    "            }\n",
    "        }\n",
    "    }, \n",
    "    {\n",
    "        '$group': {\n",
    "            '_id': '$_id.user_id', \n",
    "            'products': {\n",
    "                '$push': {\n",
    "                    'product_id': '$_id.product_id', \n",
    "                    'average_duration': '$average_duration'\n",
    "                }\n",
    "            }\n",
    "        }\n",
    "    }\n",
    "]"
   ]
  }
 ],
 "metadata": {
  "language_info": {
   "name": "python"
  },
  "orig_nbformat": 4
 },
 "nbformat": 4,
 "nbformat_minor": 2
}
